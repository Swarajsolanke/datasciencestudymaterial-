{
 "cells": [
  {
   "cell_type": "code",
   "execution_count": 1,
   "id": "769690ee",
   "metadata": {},
   "outputs": [],
   "source": [
    "import numpy as np \n",
    "from  statistics import mode \n",
    "import seaborn as sns"
   ]
  },
  {
   "cell_type": "code",
   "execution_count": 2,
   "id": "258d1da5",
   "metadata": {},
   "outputs": [],
   "source": [
    "population=np.random.randint(10,20,50)"
   ]
  },
  {
   "cell_type": "code",
   "execution_count": 3,
   "id": "ff7677b7",
   "metadata": {},
   "outputs": [
    {
     "data": {
      "text/plain": [
       "14.06"
      ]
     },
     "execution_count": 3,
     "metadata": {},
     "output_type": "execute_result"
    }
   ],
   "source": [
    "np.mean(population)"
   ]
  },
  {
   "cell_type": "code",
   "execution_count": 4,
   "id": "5c2302d3",
   "metadata": {},
   "outputs": [
    {
     "data": {
      "text/plain": [
       "13.0"
      ]
     },
     "execution_count": 4,
     "metadata": {},
     "output_type": "execute_result"
    }
   ],
   "source": [
    "np.median(population)"
   ]
  },
  {
   "cell_type": "code",
   "execution_count": 5,
   "id": "96d372ca",
   "metadata": {},
   "outputs": [
    {
     "data": {
      "text/plain": [
       "13"
      ]
     },
     "execution_count": 5,
     "metadata": {},
     "output_type": "execute_result"
    }
   ],
   "source": [
    "mode(population)"
   ]
  },
  {
   "cell_type": "code",
   "execution_count": 6,
   "id": "c6488281",
   "metadata": {},
   "outputs": [
    {
     "name": "stdout",
     "output_type": "stream",
     "text": [
      "population mean of the data 14.06\n",
      "population meadian of the data 13.0\n",
      "population mode of the data 13\n"
     ]
    }
   ],
   "source": [
    "print(f\"population mean of the data {np.mean(population)}\")\n",
    "print(f\"population meadian of the data {np.median(population)}\")\n",
    "print(f\"population mode of the data {mode(population)}\")\n"
   ]
  },
  {
   "cell_type": "code",
   "execution_count": 7,
   "id": "cacff215",
   "metadata": {},
   "outputs": [],
   "source": [
    "sample=np.random.choice(10,20)"
   ]
  },
  {
   "cell_type": "code",
   "execution_count": 8,
   "id": "0909e22b",
   "metadata": {},
   "outputs": [
    {
     "data": {
      "text/plain": [
       "array([0, 6, 0, 1, 9, 3, 7, 6, 3, 7, 6, 2, 9, 4, 9, 1, 3, 1, 9, 2])"
      ]
     },
     "execution_count": 8,
     "metadata": {},
     "output_type": "execute_result"
    }
   ],
   "source": [
    "sample"
   ]
  },
  {
   "cell_type": "code",
   "execution_count": 9,
   "id": "b7cf45d3",
   "metadata": {},
   "outputs": [
    {
     "data": {
      "text/plain": [
       "4.4"
      ]
     },
     "execution_count": 9,
     "metadata": {},
     "output_type": "execute_result"
    }
   ],
   "source": [
    "np.mean(sample)"
   ]
  },
  {
   "cell_type": "code",
   "execution_count": 10,
   "id": "c56802a5",
   "metadata": {},
   "outputs": [
    {
     "data": {
      "text/plain": [
       "3.5"
      ]
     },
     "execution_count": 10,
     "metadata": {},
     "output_type": "execute_result"
    }
   ],
   "source": [
    "np.median(sample)"
   ]
  },
  {
   "cell_type": "code",
   "execution_count": 11,
   "id": "c360a014",
   "metadata": {},
   "outputs": [
    {
     "data": {
      "text/plain": [
       "9"
      ]
     },
     "execution_count": 11,
     "metadata": {},
     "output_type": "execute_result"
    }
   ],
   "source": [
    "mode(sample)"
   ]
  },
  {
   "cell_type": "code",
   "execution_count": 12,
   "id": "d60eea8a",
   "metadata": {},
   "outputs": [
    {
     "name": "stdout",
     "output_type": "stream",
     "text": [
      "the sample mean of the data 4.4\n",
      "the sample median of the data 3.5\n",
      "the sample mode of the data 9\n"
     ]
    }
   ],
   "source": [
    "print(f\"the sample mean of the data {np.mean(sample)}\")\n",
    "print(f\"the sample median of the data {np.median(sample)}\")\n",
    "print(f\"the sample mode of the data {mode(sample)}\")"
   ]
  },
  {
   "cell_type": "code",
   "execution_count": 13,
   "id": "ca34e1db",
   "metadata": {},
   "outputs": [],
   "source": [
    "sample1=np.random.choice(population,20)\n",
    "sample2=np.random.choice(population,20)\n",
    "sample3=np.random.choice(population,20)"
   ]
  },
  {
   "cell_type": "code",
   "execution_count": 14,
   "id": "91da0b5f",
   "metadata": {},
   "outputs": [
    {
     "name": "stdout",
     "output_type": "stream",
     "text": [
      "[19 19 11 18 14 12 18 11 18 13 17 14 14 19 18 13 13 13 14 10]\n",
      "================================================================================\n",
      "[14 11 12 14 12 14 16 13 11 16 12 11 12 19 16 14 18 11 19 14]\n",
      "================================================================================\n",
      "[14 17 11 16 13 14 14 14 17 11 11 17 13 13 14 11 15 14 13 14]\n",
      "================================================================================\n"
     ]
    }
   ],
   "source": [
    "print(sample1)\n",
    "print(40* \"==\")\n",
    "print(sample2)\n",
    "print(40* \"==\")\n",
    "print(sample3)\n",
    "print(40* \"==\")"
   ]
  },
  {
   "cell_type": "code",
   "execution_count": 15,
   "id": "33602800",
   "metadata": {},
   "outputs": [],
   "source": [
    "mean_sample=[] # to get the sample mean of all sample data \n",
    "all_sample=[sample1,sample2,sample3]\n",
    "for sample in all_sample:\n",
    "    mean_sample.append(np.mean(sample))"
   ]
  },
  {
   "cell_type": "code",
   "execution_count": 16,
   "id": "6714a065",
   "metadata": {},
   "outputs": [
    {
     "data": {
      "text/plain": [
       "[14.9, 13.95, 13.8]"
      ]
     },
     "execution_count": 16,
     "metadata": {},
     "output_type": "execute_result"
    }
   ],
   "source": [
    "mean_sample"
   ]
  },
  {
   "cell_type": "markdown",
   "id": "82609a04",
   "metadata": {},
   "source": [
    "# central limit theoram "
   ]
  },
  {
   "cell_type": "code",
   "execution_count": 17,
   "id": "50f03491",
   "metadata": {
    "scrolled": true
   },
   "outputs": [],
   "source": [
    "popultion1=np.random.binomial(10,0.5,10000) # in the central limit theorm we take sample from the population then calculate the mean for each sample if it follows the normal dist then we can say clt has proved"
   ]
  },
  {
   "cell_type": "code",
   "execution_count": 18,
   "id": "174fb503",
   "metadata": {
    "scrolled": true
   },
   "outputs": [
    {
     "data": {
      "text/plain": [
       "4.9913"
      ]
     },
     "execution_count": 18,
     "metadata": {},
     "output_type": "execute_result"
    }
   ],
   "source": [
    "np.mean(popultion1)"
   ]
  },
  {
   "cell_type": "code",
   "execution_count": 19,
   "id": "42d8d13b",
   "metadata": {},
   "outputs": [
    {
     "data": {
      "text/plain": [
       "10000"
      ]
     },
     "execution_count": 19,
     "metadata": {},
     "output_type": "execute_result"
    }
   ],
   "source": [
    "len(popultion1)"
   ]
  },
  {
   "cell_type": "code",
   "execution_count": 20,
   "id": "13cdaf55",
   "metadata": {},
   "outputs": [
    {
     "data": {
      "text/plain": [
       "<seaborn.axisgrid.FacetGrid at 0x26fae078110>"
      ]
     },
     "execution_count": 20,
     "metadata": {},
     "output_type": "execute_result"
    },
    {
     "data": {
      "image/png": "[encoded data removed]",
      "text/plain": [
       "<Figure size 500x500 with 1 Axes>"
      ]
     },
     "metadata": {},
     "output_type": "display_data"
    }
   ],
   "source": [
    "sns.displot((popultion1),kde=True) # to prove the clt theorem  we need to take sample from the given population"
   ]
  },
  {
   "cell_type": "code",
   "execution_count": 21,
   "id": "c03f2c31",
   "metadata": {},
   "outputs": [],
   "source": [
    "size=len(popultion1*0.50)\n"
   ]
  },
  {
   "cell_type": "code",
   "execution_count": 22,
   "id": "df9b3559",
   "metadata": {},
   "outputs": [],
   "source": [
    "sample_mean=[]\n",
    "for items in range(1,30):\n",
    "    sample=np.random.choice(popultion1,size=size)\n",
    "    sample_mean.append(np.mean(sample))"
   ]
  },
  {
   "cell_type": "code",
   "execution_count": 23,
   "id": "815dc0fd",
   "metadata": {},
   "outputs": [
    {
     "name": "stdout",
     "output_type": "stream",
     "text": [
      "[4.9995, 4.9983, 5.0118, 4.9944, 4.9915, 4.9698, 5.0147, 4.9959, 4.9867, 4.9795, 4.9877, 4.9847, 5.008, 4.9821, 4.9806, 4.9768, 4.997, 4.9955, 4.9805, 4.9997, 4.9756, 5.0144, 4.9988, 5.0187, 5.0115, 5.0126, 4.985, 5.0044, 4.9767]\n"
     ]
    }
   ],
   "source": [
    "print(sample_mean)"
   ]
  },
  {
   "cell_type": "code",
   "execution_count": 24,
   "id": "e48c9762",
   "metadata": {},
   "outputs": [
    {
     "data": {
      "text/plain": [
       "<seaborn.axisgrid.FacetGrid at 0x26fb0c08b90>"
      ]
     },
     "execution_count": 24,
     "metadata": {},
     "output_type": "execute_result"
    },
    {
     "data": {
      "image/png": "[encoded data removed]",
      "text/plain": [
       "<Figure size 500x500 with 1 Axes>"
      ]
     },
     "metadata": {},
     "output_type": "display_data"
    }
   ],
   "source": [
    "sns.displot(sample_mean,kde=True)"
   ]
  },
  {
   "cell_type": "code",
   "execution_count": 25,
   "id": "6dbcaebe",
   "metadata": {},
   "outputs": [],
   "source": [
    "sample_mean=[]\n",
    "for items in range(1,40):\n",
    "    sample=np.random.choice(popultion1,size=size)\n",
    "    sample_mean.append(np.mean(sample))"
   ]
  },
  {
   "cell_type": "code",
   "execution_count": 26,
   "id": "603ae728",
   "metadata": {},
   "outputs": [
    {
     "data": {
      "text/plain": [
       "<seaborn.axisgrid.FacetGrid at 0x26fb0cc2510>"
      ]
     },
     "execution_count": 26,
     "metadata": {},
     "output_type": "execute_result"
    },
    {
     "data": {
      "image/png": "[encoded data removed]",
      "text/plain": [
       "<Figure size 500x500 with 1 Axes>"
      ]
     },
     "metadata": {},
     "output_type": "display_data"
    }
   ],
   "source": [
    "sns.displot(sample_mean,kde=True)"
   ]
  },
  {
   "cell_type": "markdown",
   "id": "deeca29a",
   "metadata": {},
   "source": [
    "# confidence interval  and margin of error   "
   ]
  },
  {
   "cell_type": "code",
   "execution_count": 27,
   "id": "19f183a0",
   "metadata": {},
   "outputs": [],
   "source": [
    "population=np.random.randint(10,20,50)"
   ]
  },
  {
   "cell_type": "code",
   "execution_count": 28,
   "id": "11eea9fa",
   "metadata": {},
   "outputs": [
    {
     "data": {
      "text/plain": [
       "array([14, 16, 14, 13, 15, 10, 17, 12, 12, 17, 10, 17, 19, 16, 19, 15, 12,\n",
       "       15, 13, 13, 16, 10, 12, 11, 19, 18, 18, 11, 10, 12, 17, 10, 19, 17,\n",
       "       10, 17, 11, 11, 11, 18, 14, 12, 13, 18, 10, 16, 16, 18, 16, 10])"
      ]
     },
     "execution_count": 28,
     "metadata": {},
     "output_type": "execute_result"
    }
   ],
   "source": [
    "population"
   ]
  },
  {
   "cell_type": "code",
   "execution_count": 29,
   "id": "48cdae96",
   "metadata": {},
   "outputs": [],
   "source": [
    "sample1=np.random.choice(population,20)\n",
    "sample2=np.random.choice(population,20)\n",
    "sample3=np.random.choice(population,20)"
   ]
  },
  {
   "cell_type": "code",
   "execution_count": 30,
   "id": "d4379a6a",
   "metadata": {},
   "outputs": [],
   "source": [
    "mean_sample=[] # to get the sample mean of all sample data \n",
    "all_sample=[sample1,sample2,sample3]\n",
    "for sample in all_sample:\n",
    "    mean_sample.append(np.mean(sample))"
   ]
  },
  {
   "cell_type": "code",
   "execution_count": 31,
   "id": "75fc5334",
   "metadata": {},
   "outputs": [
    {
     "data": {
      "text/plain": [
       "[14.2, 14.75, 13.75]"
      ]
     },
     "execution_count": 31,
     "metadata": {},
     "output_type": "execute_result"
    }
   ],
   "source": [
    "mean_sample"
   ]
  },
  {
   "cell_type": "code",
   "execution_count": 32,
   "id": "f6bf77db",
   "metadata": {},
   "outputs": [],
   "source": [
    "import scipy.stats as stats"
   ]
  },
  {
   "cell_type": "code",
   "execution_count": 33,
   "id": "23232731",
   "metadata": {},
   "outputs": [
    {
     "data": {
      "text/plain": [
       "1.6448536269514722"
      ]
     },
     "execution_count": 33,
     "metadata": {},
     "output_type": "execute_result"
    }
   ],
   "source": [
    "stats.norm.ppf(q=0.95) # ppf =it is probabilty density function "
   ]
  },
  {
   "cell_type": "code",
   "execution_count": 34,
   "id": "f6179c24",
   "metadata": {},
   "outputs": [
    {
     "data": {
      "text/plain": [
       "2.3263478740408408"
      ]
     },
     "execution_count": 34,
     "metadata": {},
     "output_type": "execute_result"
    }
   ],
   "source": [
    "stats.norm.ppf(q=0.99) # it confidence interval at alph=95%"
   ]
  },
  {
   "cell_type": "code",
   "execution_count": 35,
   "id": "292fe560",
   "metadata": {},
   "outputs": [],
   "source": [
    "z_critical = stats.norm.ppf(q=0.975) # z - distribution "
   ]
  },
  {
   "cell_type": "code",
   "execution_count": 36,
   "id": "8ab577c3",
   "metadata": {},
   "outputs": [],
   "source": [
    "t_critical = stats.t.ppf(q=0.975,df=24) # t- distribution "
   ]
  },
  {
   "cell_type": "code",
   "execution_count": 37,
   "id": "64c44179",
   "metadata": {},
   "outputs": [],
   "source": [
    "margin_of_error = z_critical * (np.std(mean_sample)/np.sqrt(20)) "
   ]
  },
  {
   "cell_type": "code",
   "execution_count": 38,
   "id": "0c823759",
   "metadata": {},
   "outputs": [
    {
     "data": {
      "text/plain": [
       "14.054115968023547"
      ]
     },
     "execution_count": 38,
     "metadata": {},
     "output_type": "execute_result"
    }
   ],
   "source": [
    "np.mean(mean_sample)-margin_of_error  # here we are finding the range of the error of margin"
   ]
  },
  {
   "cell_type": "code",
   "execution_count": 39,
   "id": "880c1411",
   "metadata": {},
   "outputs": [
    {
     "data": {
      "text/plain": [
       "14.412550698643122"
      ]
     },
     "execution_count": 39,
     "metadata": {},
     "output_type": "execute_result"
    }
   ],
   "source": [
    "np.mean(mean_sample)+margin_of_error"
   ]
  },
  {
   "cell_type": "markdown",
   "id": "27cb6d65",
   "metadata": {},
   "source": [
    "# Z-test "
   ]
  },
  {
   "cell_type": "code",
   "execution_count": 40,
   "id": "5a959164",
   "metadata": {},
   "outputs": [],
   "source": [
    "from numpy.random import randn\n",
    "population=randn(100)"
   ]
  },
  {
   "cell_type": "code",
   "execution_count": 41,
   "id": "b2960883",
   "metadata": {},
   "outputs": [
    {
     "data": {
      "text/plain": [
       "array([ 0.31997827, -2.92630098,  2.21960642,  0.53719118, -1.91571444,\n",
       "       -0.54897714,  0.57113031, -0.76609146,  0.25803282, -3.06889174,\n",
       "        0.23008159, -1.13208046,  1.12675686, -1.66944528,  1.74019792,\n",
       "        1.86447899, -1.65402497,  0.01523381, -0.22665287,  0.66633336,\n",
       "       -0.65756383,  0.59099807,  0.04233884, -0.92963813, -0.59727225,\n",
       "        0.35933314,  1.00291167, -0.65606928,  0.84590469,  1.84689379,\n",
       "       -1.77975203,  0.90871322, -1.46352949,  0.07004052, -0.53663378,\n",
       "        0.03280889, -0.21931473, -0.21188074,  0.95171378, -0.55342402,\n",
       "       -0.25885893,  1.06053384,  1.00451498,  0.70846433,  1.0100011 ,\n",
       "       -0.14839113, -1.56594426, -0.99307936, -0.37395297,  0.99952063,\n",
       "        0.8848048 ,  0.1148088 ,  0.38817926,  0.74894182,  0.34065129,\n",
       "       -1.23240565,  0.11699865, -0.00890134, -1.1793066 ,  1.04518508,\n",
       "        0.25624272, -1.07859452, -1.19183029, -0.85402031,  0.19083678,\n",
       "        0.49231406,  0.35154094, -1.06725481, -2.39655504, -0.68843203,\n",
       "       -0.09556135, -1.84547689, -2.11014501, -0.91207207,  0.9464712 ,\n",
       "       -0.09494475,  1.27721671,  0.02482056,  0.39144515,  1.61477221,\n",
       "        0.87694225, -0.87239202, -0.27142179, -0.47889477, -0.42398014,\n",
       "       -0.46497387, -0.07552452,  1.06356103, -0.21643586, -2.11537038,\n",
       "        0.36709077,  0.91304768,  0.08235476,  1.0903061 , -0.71323167,\n",
       "        0.02296026,  1.03329208, -0.30837323, -0.05359676,  0.63415717])"
      ]
     },
     "execution_count": 41,
     "metadata": {},
     "output_type": "execute_result"
    }
   ],
   "source": [
    "population"
   ]
  },
  {
   "cell_type": "code",
   "execution_count": 42,
   "id": "35fff309",
   "metadata": {},
   "outputs": [
    {
     "data": {
      "text/plain": [
       "<seaborn.axisgrid.FacetGrid at 0x26fb0c24950>"
      ]
     },
     "execution_count": 42,
     "metadata": {},
     "output_type": "execute_result"
    },
    {
     "data": {
      "image/png": "[encoded data removed]",
      "text/plain": [
       "<Figure size 500x500 with 1 Axes>"
      ]
     },
     "metadata": {},
     "output_type": "display_data"
    }
   ],
   "source": [
    "sns.displot(population,kde=True)"
   ]
  },
  {
   "cell_type": "code",
   "execution_count": 43,
   "id": "54f219a0",
   "metadata": {},
   "outputs": [
    {
     "name": "stdout",
     "output_type": "stream",
     "text": [
      "here is a mean and std of the population: -0.0935052478906197, 1.0447874131926562\n"
     ]
    }
   ],
   "source": [
    "print(f\"here is a mean and std of the population: {np.mean(population)}, {np.std(population)}\")"
   ]
  },
  {
   "cell_type": "code",
   "execution_count": 44,
   "id": "f541b775",
   "metadata": {},
   "outputs": [],
   "source": [
    "#perform the z test\n",
    "null_hypo=0.05039739959317137"
   ]
  },
  {
   "cell_type": "code",
   "execution_count": 45,
   "id": "5a3f55ee",
   "metadata": {},
   "outputs": [],
   "source": [
    "CI=0.95\n",
    "Alpha=5%(0.05)"
   ]
  },
  {
   "cell_type": "code",
   "execution_count": 46,
   "id": "39848e32",
   "metadata": {},
   "outputs": [],
   "source": [
    "p_value=0.05"
   ]
  },
  {
   "cell_type": "code",
   "execution_count": 47,
   "id": "5facec52",
   "metadata": {},
   "outputs": [
    {
     "data": {
      "text/plain": [
       "False"
      ]
     },
     "execution_count": 47,
     "metadata": {},
     "output_type": "execute_result"
    }
   ],
   "source": [
    "p_value<=Alpha \n"
   ]
  },
  {
   "cell_type": "code",
   "execution_count": 48,
   "id": "f07f8a74",
   "metadata": {},
   "outputs": [
    {
     "data": {
      "text/plain": [
       "'\"\"p<=alpha=then reject the null_hypo\\np>alph= the accept the null_hypo'"
      ]
     },
     "execution_count": 48,
     "metadata": {},
     "output_type": "execute_result"
    }
   ],
   "source": [
    "\"\"\"\"\"p<=alpha=then reject the null_hypo\n",
    "p>alph= the accept the null_hypo\"\"\""
   ]
  },
  {
   "cell_type": "code",
   "execution_count": 49,
   "id": "2c7ab9a1",
   "metadata": {},
   "outputs": [],
   "source": [
    "from statsmodels.stats.weightstats import ztest\n",
    "z_score,p_value=ztest(population,value=null_hypo,alternative='larger')"
   ]
  },
  {
   "cell_type": "code",
   "execution_count": 50,
   "id": "9bd18c41",
   "metadata": {},
   "outputs": [
    {
     "name": "stdout",
     "output_type": "stream",
     "text": [
      "accept the null hypothesis\n"
     ]
    }
   ],
   "source": [
    "if (p_value<=Alpha):\n",
    "    print(\"reject the null hypothesis\")\n",
    "else:\n",
    "    print(\"accept the null hypothesis\")"
   ]
  },
  {
   "cell_type": "code",
   "execution_count": 51,
   "id": "a8f4bc3b",
   "metadata": {},
   "outputs": [],
   "source": [
    "# how to check the normality of the data \n",
    "# z-test\n",
    "# chi-square test\n",
    "# anova test "
   ]
  },
  {
   "cell_type": "code",
   "execution_count": 52,
   "id": "0e8b17e9",
   "metadata": {},
   "outputs": [],
   "source": [
    "import pandas as pd\n",
    "import numpy as np\n"
   ]
  },
  {
   "cell_type": "code",
   "execution_count": 53,
   "id": "4a16f7b2",
   "metadata": {},
   "outputs": [],
   "source": [
    "df=pd.read_csv(r'https://raw.githubusercontent.com/shrikant-temburwar/Wine-Quality-Dataset/master/winequality-red.csv',sep=';')"
   ]
  },
  {
   "cell_type": "code",
   "execution_count": 54,
   "id": "5a886e12",
   "metadata": {},
   "outputs": [
    {
     "data": {
      "text/html": [
       "<div>\n",
       "<style scoped>\n",
       "    .dataframe tbody tr th:only-of-type {\n",
       "        vertical-align: middle;\n",
       "    }\n",
       "\n",
       "    .dataframe tbody tr th {\n",
       "        vertical-align: top;\n",
       "    }\n",
       "\n",
       "    .dataframe thead th {\n",
       "        text-align: right;\n",
       "    }\n",
       "</style>\n",
       "<table border=\"1\" class=\"dataframe\">\n",
       "  <thead>\n",
       "    <tr style=\"text-align: right;\">\n",
       "      <th></th>\n",
       "      <th>fixed acidity</th>\n",
       "      <th>volatile acidity</th>\n",
       "      <th>citric acid</th>\n",
       "      <th>residual sugar</th>\n",
       "      <th>chlorides</th>\n",
       "      <th>free sulfur dioxide</th>\n",
       "      <th>total sulfur dioxide</th>\n",
       "      <th>density</th>\n",
       "      <th>pH</th>\n",
       "      <th>sulphates</th>\n",
       "      <th>alcohol</th>\n",
       "      <th>quality</th>\n",
       "    </tr>\n",
       "  </thead>\n",
       "  <tbody>\n",
       "    <tr>\n",
       "      <th>0</th>\n",
       "      <td>7.4</td>\n",
       "      <td>0.70</td>\n",
       "      <td>0.00</td>\n",
       "      <td>1.9</td>\n",
       "      <td>0.076</td>\n",
       "      <td>11.0</td>\n",
       "      <td>34.0</td>\n",
       "      <td>0.9978</td>\n",
       "      <td>3.51</td>\n",
       "      <td>0.56</td>\n",
       "      <td>9.4</td>\n",
       "      <td>5</td>\n",
       "    </tr>\n",
       "    <tr>\n",
       "      <th>1</th>\n",
       "      <td>7.8</td>\n",
       "      <td>0.88</td>\n",
       "      <td>0.00</td>\n",
       "      <td>2.6</td>\n",
       "      <td>0.098</td>\n",
       "      <td>25.0</td>\n",
       "      <td>67.0</td>\n",
       "      <td>0.9968</td>\n",
       "      <td>3.20</td>\n",
       "      <td>0.68</td>\n",
       "      <td>9.8</td>\n",
       "      <td>5</td>\n",
       "    </tr>\n",
       "    <tr>\n",
       "      <th>2</th>\n",
       "      <td>7.8</td>\n",
       "      <td>0.76</td>\n",
       "      <td>0.04</td>\n",
       "      <td>2.3</td>\n",
       "      <td>0.092</td>\n",
       "      <td>15.0</td>\n",
       "      <td>54.0</td>\n",
       "      <td>0.9970</td>\n",
       "      <td>3.26</td>\n",
       "      <td>0.65</td>\n",
       "      <td>9.8</td>\n",
       "      <td>5</td>\n",
       "    </tr>\n",
       "    <tr>\n",
       "      <th>3</th>\n",
       "      <td>11.2</td>\n",
       "      <td>0.28</td>\n",
       "      <td>0.56</td>\n",
       "      <td>1.9</td>\n",
       "      <td>0.075</td>\n",
       "      <td>17.0</td>\n",
       "      <td>60.0</td>\n",
       "      <td>0.9980</td>\n",
       "      <td>3.16</td>\n",
       "      <td>0.58</td>\n",
       "      <td>9.8</td>\n",
       "      <td>6</td>\n",
       "    </tr>\n",
       "    <tr>\n",
       "      <th>4</th>\n",
       "      <td>7.4</td>\n",
       "      <td>0.70</td>\n",
       "      <td>0.00</td>\n",
       "      <td>1.9</td>\n",
       "      <td>0.076</td>\n",
       "      <td>11.0</td>\n",
       "      <td>34.0</td>\n",
       "      <td>0.9978</td>\n",
       "      <td>3.51</td>\n",
       "      <td>0.56</td>\n",
       "      <td>9.4</td>\n",
       "      <td>5</td>\n",
       "    </tr>\n",
       "  </tbody>\n",
       "</table>\n",
       "</div>"
      ],
      "text/plain": [
       "   fixed acidity  volatile acidity  citric acid  residual sugar  chlorides  \\\n",
       "0            7.4              0.70         0.00             1.9      0.076   \n",
       "1            7.8              0.88         0.00             2.6      0.098   \n",
       "2            7.8              0.76         0.04             2.3      0.092   \n",
       "3           11.2              0.28         0.56             1.9      0.075   \n",
       "4            7.4              0.70         0.00             1.9      0.076   \n",
       "\n",
       "   free sulfur dioxide  total sulfur dioxide  density    pH  sulphates  \\\n",
       "0                 11.0                  34.0   0.9978  3.51       0.56   \n",
       "1                 25.0                  67.0   0.9968  3.20       0.68   \n",
       "2                 15.0                  54.0   0.9970  3.26       0.65   \n",
       "3                 17.0                  60.0   0.9980  3.16       0.58   \n",
       "4                 11.0                  34.0   0.9978  3.51       0.56   \n",
       "\n",
       "   alcohol  quality  \n",
       "0      9.4        5  \n",
       "1      9.8        5  \n",
       "2      9.8        5  \n",
       "3      9.8        6  \n",
       "4      9.4        5  "
      ]
     },
     "execution_count": 54,
     "metadata": {},
     "output_type": "execute_result"
    }
   ],
   "source": [
    "df.head()"
   ]
  },
  {
   "cell_type": "code",
   "execution_count": null,
   "id": "cd3844d9",
   "metadata": {},
   "outputs": [],
   "source": []
  },
  {
   "cell_type": "code",
   "execution_count": 55,
   "id": "4d9e9981",
   "metadata": {},
   "outputs": [
    {
     "data": {
      "text/plain": [
       "<seaborn.axisgrid.FacetGrid at 0x26fb0e52e50>"
      ]
     },
     "execution_count": 55,
     "metadata": {},
     "output_type": "execute_result"
    },
    {
     "data": {
      "image/png": "[encoded data removed]",
      "text/plain": [
       "<Figure size 500x500 with 1 Axes>"
      ]
     },
     "metadata": {},
     "output_type": "display_data"
    }
   ],
   "source": [
    "sns.displot(df[\"volatile acidity\"],kde=True,color=\"red\")"
   ]
  },
  {
   "cell_type": "code",
   "execution_count": 56,
   "id": "67e6a3d3",
   "metadata": {},
   "outputs": [
    {
     "data": {
      "text/plain": [
       "<seaborn.axisgrid.FacetGrid at 0x26fb0d68750>"
      ]
     },
     "execution_count": 56,
     "metadata": {},
     "output_type": "execute_result"
    },
    {
     "data": {
      "image/png": "[encoded data removed]",
      "text/plain": [
       "<Figure size 500x500 with 1 Axes>"
      ]
     },
     "metadata": {},
     "output_type": "display_data"
    }
   ],
   "source": [
    "sns.displot(df[\"residual sugar\"],kde=True)"
   ]
  },
  {
   "cell_type": "code",
   "execution_count": 57,
   "id": "d950f7be",
   "metadata": {},
   "outputs": [],
   "source": [
    "from scipy import stats"
   ]
  },
  {
   "cell_type": "code",
   "execution_count": 58,
   "id": "a833ed72",
   "metadata": {},
   "outputs": [
    {
     "data": {
      "text/plain": [
       "ShapiroResult(statistic=0.9743338823318481, pvalue=2.686385373947307e-16)"
      ]
     },
     "execution_count": 58,
     "metadata": {},
     "output_type": "execute_result"
    }
   ],
   "source": [
    "stats.shapiro(df['volatile acidity'])"
   ]
  },
  {
   "cell_type": "code",
   "execution_count": 59,
   "id": "a15ad9ec",
   "metadata": {},
   "outputs": [],
   "source": [
    "from numpy.random import randn  # to genrate the random values from the randn function "
   ]
  },
  {
   "cell_type": "code",
   "execution_count": 60,
   "id": "bd0ed222",
   "metadata": {},
   "outputs": [],
   "source": [
    "result=randn(5000)"
   ]
  },
  {
   "cell_type": "code",
   "execution_count": 61,
   "id": "aa1f5cf7",
   "metadata": {},
   "outputs": [
    {
     "data": {
      "text/plain": [
       "<seaborn.axisgrid.FacetGrid at 0x26fb2229490>"
      ]
     },
     "execution_count": 61,
     "metadata": {},
     "output_type": "execute_result"
    },
    {
     "data": {
      "image/png": "[encoded data removed]",
      "text/plain": [
       "<Figure size 500x500 with 1 Axes>"
      ]
     },
     "metadata": {},
     "output_type": "display_data"
    }
   ],
   "source": [
    "sns.displot(result,kde=True)"
   ]
  },
  {
   "cell_type": "code",
   "execution_count": 62,
   "id": "15a9ad63",
   "metadata": {},
   "outputs": [
    {
     "data": {
      "text/plain": [
       "0.92586749792099"
      ]
     },
     "execution_count": 62,
     "metadata": {},
     "output_type": "execute_result"
    }
   ],
   "source": [
    "stats.shapiro(result)[1]"
   ]
  },
  {
   "cell_type": "code",
   "execution_count": 63,
   "id": "f49c6857",
   "metadata": {},
   "outputs": [
    {
     "ename": "NameError",
     "evalue": "name 'p' is not defined",
     "output_type": "error",
     "traceback": [
      "\u001b[1;31m---------------------------------------------------------------------------\u001b[0m",
      "\u001b[1;31mNameError\u001b[0m                                 Traceback (most recent call last)",
      "Cell \u001b[1;32mIn[63], line 2\u001b[0m\n\u001b[0;32m      1\u001b[0m \u001b[38;5;66;03m# in this case we accept the null hypothesis \u001b[39;00m\n\u001b[1;32m----> 2\u001b[0m \u001b[38;5;28;01mif\u001b[39;00m p\u001b[38;5;241m<\u001b[39m\u001b[38;5;241m=\u001b[39mresult[\u001b[38;5;241m1\u001b[39m]:\n\u001b[0;32m      3\u001b[0m     \u001b[38;5;28mprint\u001b[39m(\u001b[38;5;124m\"\u001b[39m\u001b[38;5;124mreject the null hypothesis \u001b[39m\u001b[38;5;124m\"\u001b[39m)\n\u001b[0;32m      4\u001b[0m \u001b[38;5;28;01melse\u001b[39;00m:\n",
      "\u001b[1;31mNameError\u001b[0m: name 'p' is not defined"
     ]
    }
   ],
   "source": [
    "# in this case we accept the null hypothesis \n",
    "if p<=result[1]:\n",
    "    print(\"reject the null hypothesis \")\n",
    "else:\n",
    "    print(\"accept the null hypothesis \") \n",
    "    "
   ]
  },
  {
   "cell_type": "code",
   "execution_count": null,
   "id": "52daa314",
   "metadata": {},
   "outputs": [],
   "source": [
    "stats.normaltest(result) # this function is check the normality of the data "
   ]
  },
  {
   "cell_type": "markdown",
   "id": "fbdbe4cb",
   "metadata": {},
   "source": [
    "# let's suppose there are 100 students in the class out of 100 only 50  students i took for z test .i want to check the IQ level of the students in the class \n",
    "\n"
   ]
  },
  {
   "cell_type": "code",
   "execution_count": null,
   "id": "4f72cbb1",
   "metadata": {},
   "outputs": [],
   "source": [
    "sample_mean_iq=110\n",
    "alpha=0.05"
   ]
  },
  {
   "cell_type": "code",
   "execution_count": null,
   "id": "d0ebb281",
   "metadata": {},
   "outputs": [],
   "source": [
    "mean_std_dev=15\n",
    "mean_population=100"
   ]
  },
  {
   "cell_type": "code",
   "execution_count": null,
   "id": "635920ad",
   "metadata": {},
   "outputs": [],
   "source": [
    "mean_std_dev*randn(50)+sample_mean_iq"
   ]
  },
  {
   "cell_type": "code",
   "execution_count": null,
   "id": "70bce9e2",
   "metadata": {},
   "outputs": [],
   "source": [
    "data=mean_std_dev*randn(50)+mean_population"
   ]
  },
  {
   "cell_type": "code",
   "execution_count": null,
   "id": "a5c09bd2",
   "metadata": {},
   "outputs": [],
   "source": [
    "np.mean(data)"
   ]
  },
  {
   "cell_type": "code",
   "execution_count": null,
   "id": "947d7909",
   "metadata": {},
   "outputs": [],
   "source": [
    "np.std(data)"
   ]
  },
  {
   "cell_type": "code",
   "execution_count": null,
   "id": "4c5fd0e2",
   "metadata": {},
   "outputs": [],
   "source": [
    "null_hypo=100"
   ]
  },
  {
   "cell_type": "code",
   "execution_count": null,
   "id": "58541949",
   "metadata": {},
   "outputs": [],
   "source": [
    "from statsmodels.stats.weightstats import ztest\n",
    "ztest(data,value=null_hypo,alternative='larger')  # from this we can say that we accept the null hypothesis "
   ]
  },
  {
   "cell_type": "markdown",
   "id": "7fa862a0",
   "metadata": {},
   "source": [
    "# T-test"
   ]
  },
  {
   "cell_type": "code",
   "execution_count": null,
   "id": "54b111c9",
   "metadata": {},
   "outputs": [],
   "source": [
    "##ztest vs test\n",
    "sample size less than 30\n",
    "pop var/pop std won't be there"
   ]
  },
  {
   "cell_type": "code",
   "execution_count": null,
   "id": "b45fadc3",
   "metadata": {},
   "outputs": [],
   "source": [
    "\"\"\"\"one-sample t test(with respect to one independent sample)\n",
    "two-sample t test(with respect to two independent sample)\n",
    "paired t-test(two sample from the sample population on different time interval)\"\"\""
   ]
  },
  {
   "cell_type": "code",
   "execution_count": null,
   "id": "c2202475",
   "metadata": {},
   "outputs": [],
   "source": [
    "#one sample t -test\n",
    "import random\n",
    "import numpy as np\n",
    "np.random.randint(10,50,50)"
   ]
  },
  {
   "cell_type": "code",
   "execution_count": null,
   "id": "5870a550",
   "metadata": {},
   "outputs": [],
   "source": [
    "population=np.random.randint(10,50,50)"
   ]
  },
  {
   "cell_type": "code",
   "execution_count": null,
   "id": "c0fd8f95",
   "metadata": {},
   "outputs": [],
   "source": [
    "# first sample from the population\n",
    "sample=np.random.choice(population,20)"
   ]
  },
  {
   "cell_type": "code",
   "execution_count": null,
   "id": "50a609b2",
   "metadata": {},
   "outputs": [],
   "source": [
    "population.mean()"
   ]
  },
  {
   "cell_type": "code",
   "execution_count": null,
   "id": "2b473c07",
   "metadata": {},
   "outputs": [],
   "source": [
    "sample.mean()"
   ]
  },
  {
   "cell_type": "code",
   "execution_count": null,
   "id": "07fbe9a5",
   "metadata": {},
   "outputs": [],
   "source": [
    "sample2=np.random.choice(population,20)"
   ]
  },
  {
   "cell_type": "code",
   "execution_count": null,
   "id": "42bcb606",
   "metadata": {},
   "outputs": [],
   "source": [
    "sample2.mean()"
   ]
  },
  {
   "cell_type": "code",
   "execution_count": null,
   "id": "e94c18b5",
   "metadata": {},
   "outputs": [],
   "source": [
    "my_cricket_score=[22, 38, 19, 15, 48, 11, 10, 49, 47, 38, 10, 25, 46, 10, 21, 24, 29,36, 25, 24]"
   ]
  },
  {
   "cell_type": "code",
   "execution_count": null,
   "id": "5f51d249",
   "metadata": {},
   "outputs": [],
   "source": [
    "np.mean(my_cricket_score)"
   ]
  },
  {
   "cell_type": "code",
   "execution_count": null,
   "id": "a7b1d866",
   "metadata": {},
   "outputs": [],
   "source": [
    "#null_hyphothesis=sample mean should be 27.35"
   ]
  },
  {
   "cell_type": "code",
   "execution_count": null,
   "id": "f775679e",
   "metadata": {},
   "outputs": [],
   "source": [
    "virat_cricket_score=[33, 45, 23, 25, 46, 46, 46, 49, 49, 14, 14, 44, 25, 31, 25, 40, 30,20, 42, 37]"
   ]
  },
  {
   "cell_type": "code",
   "execution_count": null,
   "id": "e70015f3",
   "metadata": {},
   "outputs": [],
   "source": [
    "np.mean(virat_cricket_score)"
   ]
  },
  {
   "cell_type": "code",
   "execution_count": null,
   "id": "343c4d46",
   "metadata": {},
   "outputs": [],
   "source": [
    "#one sample t -test\n",
    "import scipy\n",
    "result=scipy.stats.ttest_1samp(my_cricket_score,15)"
   ]
  },
  {
   "cell_type": "code",
   "execution_count": null,
   "id": "620f7a5d",
   "metadata": {},
   "outputs": [],
   "source": [
    "result[1]"
   ]
  },
  {
   "cell_type": "code",
   "execution_count": null,
   "id": "9c9bdab9",
   "metadata": {},
   "outputs": [],
   "source": [
    "#change the null hypo\n",
    "scipy.stats.ttest_1samp(my_cricket_score,27)"
   ]
  },
  {
   "cell_type": "code",
   "execution_count": null,
   "id": "3e2eefe9",
   "metadata": {},
   "outputs": [],
   "source": [
    "#two-sample t test(with respect to two independent sample)\n",
    "my_cricket_score=[22, 38, 19, 15, 48, 11, 10, 49, 47, 38, 10, 25, 46, 10, 21, 24, 29,36, 25, 24]\n",
    "\n",
    "virat_cricket_score=[33, 45, 23, 25, 46, 46, 46, 49, 49, 44, 44, 49, 25, 31, 25, 40, 30,20, 42, 37]\n"
   ]
  },
  {
   "cell_type": "code",
   "execution_count": null,
   "id": "d353dab4",
   "metadata": {},
   "outputs": [],
   "source": [
    "first_sample_mean=np.mean(my_cricket_score)\n",
    "second_sample_mean=np.mean(virat_cricket_score)"
   ]
  },
  {
   "cell_type": "code",
   "execution_count": null,
   "id": "8232190f",
   "metadata": {},
   "outputs": [],
   "source": [
    "print(first_sample_mean)\n",
    "print(second_sample_mean)"
   ]
  },
  {
   "cell_type": "code",
   "execution_count": null,
   "id": "b9d392de",
   "metadata": {},
   "outputs": [],
   "source": [
    "# my_null_hyphothsis=both sample mean will be same\n",
    "scipy.stats.ttest_ind(my_cricket_score,virat_cricket_score)"
   ]
  },
  {
   "cell_type": "code",
   "execution_count": null,
   "id": "cfde8096",
   "metadata": {},
   "outputs": [],
   "source": [
    "#paired t-test(two sample from the sample population on different time interval)\n",
    "my_cricket_score_from_first_inning=[22, 38, 19, 15, 48, 11, 10, 49, 47, 38, 10, 25, 46, 10, 21, 24, 29,36, 25, 24]\n",
    "my_cricket_score_from_second_inning=[22, 38, 29, 15, 18, 11, 10, 49, 47, 38, 50, 45, 46, 40, 21, 24, 29,16, 25, 24]\n"
   ]
  },
  {
   "cell_type": "code",
   "execution_count": null,
   "id": "3c77c41e",
   "metadata": {},
   "outputs": [],
   "source": [
    "print(np.mean(my_cricket_score_from_first_inning))\n",
    "print(np.mean(my_cricket_score_from_second_inning))"
   ]
  },
  {
   "cell_type": "code",
   "execution_count": null,
   "id": "681da145",
   "metadata": {},
   "outputs": [],
   "source": [
    "scipy.stats.ttest_rel(my_cricket_score_from_first_inning,my_cricket_score_from_second_inning)"
   ]
  },
  {
   "cell_type": "markdown",
   "id": "70420204",
   "metadata": {},
   "source": [
    "# Chi-square test"
   ]
  },
  {
   "cell_type": "code",
   "execution_count": 66,
   "id": "52f3074d",
   "metadata": {},
   "outputs": [],
   "source": [
    "data=sns.load_dataset(\"tips\")"
   ]
  },
  {
   "cell_type": "code",
   "execution_count": 70,
   "id": "81fcd06a",
   "metadata": {},
   "outputs": [
    {
     "data": {
      "text/plain": [
       "CategoricalDtype(categories=['Male', 'Female'], ordered=False)"
      ]
     },
     "execution_count": 70,
     "metadata": {},
     "output_type": "execute_result"
    }
   ],
   "source": [
    "data[\"sex\"].unique().dtype"
   ]
  },
  {
   "cell_type": "code",
   "execution_count": 71,
   "id": "812e7365",
   "metadata": {},
   "outputs": [
    {
     "name": "stdout",
     "output_type": "stream",
     "text": [
      "<class 'pandas.core.frame.DataFrame'>\n",
      "RangeIndex: 244 entries, 0 to 243\n",
      "Data columns (total 7 columns):\n",
      " #   Column      Non-Null Count  Dtype   \n",
      "---  ------      --------------  -----   \n",
      " 0   total_bill  244 non-null    float64 \n",
      " 1   tip         244 non-null    float64 \n",
      " 2   sex         244 non-null    category\n",
      " 3   smoker      244 non-null    category\n",
      " 4   day         244 non-null    category\n",
      " 5   time        244 non-null    category\n",
      " 6   size        244 non-null    int64   \n",
      "dtypes: category(4), float64(2), int64(1)\n",
      "memory usage: 7.4 KB\n"
     ]
    }
   ],
   "source": [
    "data.info()"
   ]
  },
  {
   "cell_type": "code",
   "execution_count": 72,
   "id": "75219c35",
   "metadata": {},
   "outputs": [],
   "source": [
    "# i am taking sex and smoker two categories to test chi-square"
   ]
  },
  {
   "cell_type": "code",
   "execution_count": 77,
   "id": "1d030c8a",
   "metadata": {},
   "outputs": [
    {
     "data": {
      "text/plain": [
       "Index(['total_bill', 'tip', 'sex', 'smoker', 'day', 'time', 'size'], dtype='object')"
      ]
     },
     "execution_count": 77,
     "metadata": {},
     "output_type": "execute_result"
    }
   ],
   "source": [
    "data.columns # two find "
   ]
  },
  {
   "cell_type": "code",
   "execution_count": 79,
   "id": "7ab47b62",
   "metadata": {},
   "outputs": [
    {
     "data": {
      "text/html": [
       "<div>\n",
       "<style scoped>\n",
       "    .dataframe tbody tr th:only-of-type {\n",
       "        vertical-align: middle;\n",
       "    }\n",
       "\n",
       "    .dataframe tbody tr th {\n",
       "        vertical-align: top;\n",
       "    }\n",
       "\n",
       "    .dataframe thead th {\n",
       "        text-align: right;\n",
       "    }\n",
       "</style>\n",
       "<table border=\"1\" class=\"dataframe\">\n",
       "  <thead>\n",
       "    <tr style=\"text-align: right;\">\n",
       "      <th></th>\n",
       "      <th>sex</th>\n",
       "      <th>smoker</th>\n",
       "    </tr>\n",
       "  </thead>\n",
       "  <tbody>\n",
       "    <tr>\n",
       "      <th>0</th>\n",
       "      <td>Female</td>\n",
       "      <td>No</td>\n",
       "    </tr>\n",
       "    <tr>\n",
       "      <th>1</th>\n",
       "      <td>Male</td>\n",
       "      <td>No</td>\n",
       "    </tr>\n",
       "    <tr>\n",
       "      <th>2</th>\n",
       "      <td>Male</td>\n",
       "      <td>No</td>\n",
       "    </tr>\n",
       "    <tr>\n",
       "      <th>3</th>\n",
       "      <td>Male</td>\n",
       "      <td>No</td>\n",
       "    </tr>\n",
       "    <tr>\n",
       "      <th>4</th>\n",
       "      <td>Female</td>\n",
       "      <td>No</td>\n",
       "    </tr>\n",
       "    <tr>\n",
       "      <th>...</th>\n",
       "      <td>...</td>\n",
       "      <td>...</td>\n",
       "    </tr>\n",
       "    <tr>\n",
       "      <th>239</th>\n",
       "      <td>Male</td>\n",
       "      <td>No</td>\n",
       "    </tr>\n",
       "    <tr>\n",
       "      <th>240</th>\n",
       "      <td>Female</td>\n",
       "      <td>Yes</td>\n",
       "    </tr>\n",
       "    <tr>\n",
       "      <th>241</th>\n",
       "      <td>Male</td>\n",
       "      <td>Yes</td>\n",
       "    </tr>\n",
       "    <tr>\n",
       "      <th>242</th>\n",
       "      <td>Male</td>\n",
       "      <td>No</td>\n",
       "    </tr>\n",
       "    <tr>\n",
       "      <th>243</th>\n",
       "      <td>Female</td>\n",
       "      <td>No</td>\n",
       "    </tr>\n",
       "  </tbody>\n",
       "</table>\n",
       "<p>244 rows × 2 columns</p>\n",
       "</div>"
      ],
      "text/plain": [
       "        sex smoker\n",
       "0    Female     No\n",
       "1      Male     No\n",
       "2      Male     No\n",
       "3      Male     No\n",
       "4    Female     No\n",
       "..      ...    ...\n",
       "239    Male     No\n",
       "240  Female    Yes\n",
       "241    Male    Yes\n",
       "242    Male     No\n",
       "243  Female     No\n",
       "\n",
       "[244 rows x 2 columns]"
      ]
     },
     "execution_count": 79,
     "metadata": {},
     "output_type": "execute_result"
    }
   ],
   "source": [
    "data[[\"sex\",\"smoker\"]] # i am taking two categories "
   ]
  },
  {
   "cell_type": "code",
   "execution_count": 83,
   "id": "d8b51a48",
   "metadata": {},
   "outputs": [],
   "source": [
    "dataset_table=pd.crosstab(data['sex'],data['smoker']) # to calculate the observed dataset"
   ]
  },
  {
   "cell_type": "code",
   "execution_count": 84,
   "id": "427290c8",
   "metadata": {},
   "outputs": [
    {
     "data": {
      "text/html": [
       "<div>\n",
       "<style scoped>\n",
       "    .dataframe tbody tr th:only-of-type {\n",
       "        vertical-align: middle;\n",
       "    }\n",
       "\n",
       "    .dataframe tbody tr th {\n",
       "        vertical-align: top;\n",
       "    }\n",
       "\n",
       "    .dataframe thead th {\n",
       "        text-align: right;\n",
       "    }\n",
       "</style>\n",
       "<table border=\"1\" class=\"dataframe\">\n",
       "  <thead>\n",
       "    <tr style=\"text-align: right;\">\n",
       "      <th>smoker</th>\n",
       "      <th>Yes</th>\n",
       "      <th>No</th>\n",
       "    </tr>\n",
       "    <tr>\n",
       "      <th>sex</th>\n",
       "      <th></th>\n",
       "      <th></th>\n",
       "    </tr>\n",
       "  </thead>\n",
       "  <tbody>\n",
       "    <tr>\n",
       "      <th>Male</th>\n",
       "      <td>60</td>\n",
       "      <td>97</td>\n",
       "    </tr>\n",
       "    <tr>\n",
       "      <th>Female</th>\n",
       "      <td>33</td>\n",
       "      <td>54</td>\n",
       "    </tr>\n",
       "  </tbody>\n",
       "</table>\n",
       "</div>"
      ],
      "text/plain": [
       "smoker  Yes  No\n",
       "sex            \n",
       "Male     60  97\n",
       "Female   33  54"
      ]
     },
     "execution_count": 84,
     "metadata": {},
     "output_type": "execute_result"
    }
   ],
   "source": [
    "dataset_table"
   ]
  },
  {
   "cell_type": "code",
   "execution_count": 94,
   "id": "25009a3b",
   "metadata": {},
   "outputs": [],
   "source": [
    "Observed_Values=dataset_table.values # convert it into array"
   ]
  },
  {
   "cell_type": "code",
   "execution_count": 95,
   "id": "46b2fa8a",
   "metadata": {},
   "outputs": [
    {
     "data": {
      "text/plain": [
       "array([[60, 97],\n",
       "       [33, 54]], dtype=int64)"
      ]
     },
     "execution_count": 95,
     "metadata": {},
     "output_type": "execute_result"
    }
   ],
   "source": [
    "Observed_Values"
   ]
  },
  {
   "cell_type": "code",
   "execution_count": 97,
   "id": "025d97b6",
   "metadata": {},
   "outputs": [
    {
     "name": "stdout",
     "output_type": "stream",
     "text": [
      "this is observed values of the data\n",
      " [[60 97]\n",
      " [33 54]]\n"
     ]
    }
   ],
   "source": [
    "print(f\"this is observed values of the data\\n {Observed_Values}\") "
   ]
  },
  {
   "cell_type": "code",
   "execution_count": 98,
   "id": "b7b69654",
   "metadata": {},
   "outputs": [],
   "source": [
    "import scipy.stats as stats"
   ]
  },
  {
   "cell_type": "code",
   "execution_count": 101,
   "id": "1edf6b6b",
   "metadata": {},
   "outputs": [],
   "source": [
    "stats_value,p,dof,expected_value=stats.chi2_contingency(Observed_Values) # to find the expected value from the observed data"
   ]
  },
  {
   "cell_type": "code",
   "execution_count": 102,
   "id": "e829aec2",
   "metadata": {},
   "outputs": [
    {
     "data": {
      "text/plain": [
       "0.0"
      ]
     },
     "execution_count": 102,
     "metadata": {},
     "output_type": "execute_result"
    }
   ],
   "source": [
    "stats_value"
   ]
  },
  {
   "cell_type": "code",
   "execution_count": 103,
   "id": "1b8bf39a",
   "metadata": {},
   "outputs": [
    {
     "data": {
      "text/plain": [
       "1.0"
      ]
     },
     "execution_count": 103,
     "metadata": {},
     "output_type": "execute_result"
    }
   ],
   "source": [
    "p"
   ]
  },
  {
   "cell_type": "code",
   "execution_count": 104,
   "id": "d817cf91",
   "metadata": {},
   "outputs": [
    {
     "data": {
      "text/plain": [
       "1"
      ]
     },
     "execution_count": 104,
     "metadata": {},
     "output_type": "execute_result"
    }
   ],
   "source": [
    "dof"
   ]
  },
  {
   "cell_type": "code",
   "execution_count": 105,
   "id": "88d8b483",
   "metadata": {},
   "outputs": [
    {
     "data": {
      "text/plain": [
       "array([[59.84016393, 97.15983607],\n",
       "       [33.15983607, 53.84016393]])"
      ]
     },
     "execution_count": 105,
     "metadata": {},
     "output_type": "execute_result"
    }
   ],
   "source": [
    "expected_value"
   ]
  },
  {
   "cell_type": "code",
   "execution_count": 108,
   "id": "51260ffd",
   "metadata": {},
   "outputs": [
    {
     "data": {
      "text/html": [
       "<div>\n",
       "<style scoped>\n",
       "    .dataframe tbody tr th:only-of-type {\n",
       "        vertical-align: middle;\n",
       "    }\n",
       "\n",
       "    .dataframe tbody tr th {\n",
       "        vertical-align: top;\n",
       "    }\n",
       "\n",
       "    .dataframe thead th {\n",
       "        text-align: right;\n",
       "    }\n",
       "</style>\n",
       "<table border=\"1\" class=\"dataframe\">\n",
       "  <thead>\n",
       "    <tr style=\"text-align: right;\">\n",
       "      <th>smoker</th>\n",
       "      <th>Yes</th>\n",
       "      <th>No</th>\n",
       "    </tr>\n",
       "    <tr>\n",
       "      <th>sex</th>\n",
       "      <th></th>\n",
       "      <th></th>\n",
       "    </tr>\n",
       "  </thead>\n",
       "  <tbody>\n",
       "    <tr>\n",
       "      <th>Male</th>\n",
       "      <td>60</td>\n",
       "      <td>97</td>\n",
       "    </tr>\n",
       "    <tr>\n",
       "      <th>Female</th>\n",
       "      <td>33</td>\n",
       "      <td>54</td>\n",
       "    </tr>\n",
       "  </tbody>\n",
       "</table>\n",
       "</div>"
      ],
      "text/plain": [
       "smoker  Yes  No\n",
       "sex            \n",
       "Male     60  97\n",
       "Female   33  54"
      ]
     },
     "execution_count": 108,
     "metadata": {},
     "output_type": "execute_result"
    }
   ],
   "source": [
    "dataset_table"
   ]
  },
  {
   "cell_type": "code",
   "execution_count": 109,
   "id": "48609384",
   "metadata": {},
   "outputs": [],
   "source": [
    "no_of_rows=dataset_table.iloc[0:2,0] # iloc function is used when the data is structured format "
   ]
  },
  {
   "cell_type": "code",
   "execution_count": 110,
   "id": "7c591fef",
   "metadata": {},
   "outputs": [
    {
     "data": {
      "text/plain": [
       "sex\n",
       "Male      60\n",
       "Female    33\n",
       "Name: Yes, dtype: int64"
      ]
     },
     "execution_count": 110,
     "metadata": {},
     "output_type": "execute_result"
    }
   ],
   "source": [
    "no_of_rows"
   ]
  },
  {
   "cell_type": "code",
   "execution_count": 113,
   "id": "acff5eca",
   "metadata": {},
   "outputs": [],
   "source": [
    "no_of_columns=dataset_table.iloc[0,0:2] "
   ]
  },
  {
   "cell_type": "code",
   "execution_count": 114,
   "id": "0f18cac0",
   "metadata": {},
   "outputs": [
    {
     "data": {
      "text/plain": [
       "smoker\n",
       "Yes    60\n",
       "No     97\n",
       "Name: Male, dtype: int64"
      ]
     },
     "execution_count": 114,
     "metadata": {},
     "output_type": "execute_result"
    }
   ],
   "source": [
    "no_of_columns"
   ]
  },
  {
   "cell_type": "code",
   "execution_count": 117,
   "id": "b05c251c",
   "metadata": {},
   "outputs": [],
   "source": [
    "dof=(len(no_of_columns)-1)*(len(no_of_rows)-1) # this gives the degree of the freedom"
   ]
  },
  {
   "cell_type": "code",
   "execution_count": 118,
   "id": "09b855c1",
   "metadata": {},
   "outputs": [
    {
     "data": {
      "text/plain": [
       "1"
      ]
     },
     "execution_count": 118,
     "metadata": {},
     "output_type": "execute_result"
    }
   ],
   "source": [
    "dof"
   ]
  },
  {
   "cell_type": "code",
   "execution_count": 121,
   "id": "117d4726",
   "metadata": {},
   "outputs": [
    {
     "name": "stdout",
     "output_type": "stream",
     "text": [
      "[60 97] [59.84016393 97.15983607]\n",
      "[33 54] [33.15983607 53.84016393]\n"
     ]
    }
   ],
   "source": [
    "for o,e in zip(Observed_Values,expected_value): # this combine the data and then give the observed and expected data\n",
    "    print(o,e)"
   ]
  },
  {
   "cell_type": "code",
   "execution_count": 123,
   "id": "56cfe96b",
   "metadata": {},
   "outputs": [],
   "source": [
    "from scipy.stats import chi2\n",
    "chisqure_test=sum([(o-e)**2./e for o,e in zip(Observed_Values,expected_value)])"
   ]
  },
  {
   "cell_type": "code",
   "execution_count": 124,
   "id": "b5d0c249",
   "metadata": {},
   "outputs": [
    {
     "data": {
      "text/plain": [
       "array([0.00119737, 0.00073745])"
      ]
     },
     "execution_count": 124,
     "metadata": {},
     "output_type": "execute_result"
    }
   ],
   "source": [
    "chisqure_test # this gives the two values "
   ]
  },
  {
   "cell_type": "code",
   "execution_count": 125,
   "id": "93aa43e1",
   "metadata": {},
   "outputs": [],
   "source": [
    "chi_square_statistic=chisqure_test[0]+chisqure_test[1] #here adding two values"
   ]
  },
  {
   "cell_type": "code",
   "execution_count": 127,
   "id": "25201433",
   "metadata": {},
   "outputs": [
    {
     "data": {
      "text/plain": [
       "0.001934818536627623"
      ]
     },
     "execution_count": 127,
     "metadata": {},
     "output_type": "execute_result"
    }
   ],
   "source": [
    "chi_square_statistic # this is my calculated the chi_square test"
   ]
  },
  {
   "cell_type": "code",
   "execution_count": 128,
   "id": "4670474d",
   "metadata": {},
   "outputs": [],
   "source": [
    "alpha=0.05"
   ]
  },
  {
   "cell_type": "code",
   "execution_count": 129,
   "id": "00ae59f1",
   "metadata": {},
   "outputs": [],
   "source": [
    "from scipy.stats import chi2\n",
    "critical_value=chi2.ppf(1-alpha,df=dof)  # probability density function and finding the critical value of given dof,observed the dataset"
   ]
  },
  {
   "cell_type": "code",
   "execution_count": 130,
   "id": "67dd63f9",
   "metadata": {},
   "outputs": [
    {
     "name": "stdout",
     "output_type": "stream",
     "text": [
      "Retain H0,There is no relationship between 2 categorical variables\n"
     ]
    }
   ],
   "source": [
    "#based on the critial and calculated value we can reject or accept the null hypothesis\n",
    "if chi_square_statistic>=critical_value:\n",
    "    print(\"Reject H0,There is a relationship between 2 categorical variables\")\n",
    "else:\n",
    "    print(\"Retain H0,There is no relationship between 2 categorical variables\")"
   ]
  },
  {
   "cell_type": "code",
   "execution_count": 132,
   "id": "95c15c6b",
   "metadata": {},
   "outputs": [
    {
     "name": "stdout",
     "output_type": "stream",
     "text": [
      "Reject H0,There is a relationship between 2 categorical variables\n"
     ]
    }
   ],
   "source": [
    "# we can do this help of p value \n",
    "if p>=alpha:\n",
    "    print(\"Reject H0,There is a relationship between 2 categorical variables\")\n",
    "else:\n",
    "    print(\"Retain H0,There is no relationship between 2 categorical variables\")"
   ]
  },
  {
   "cell_type": "code",
   "execution_count": null,
   "id": "cacb6c0e",
   "metadata": {},
   "outputs": [],
   "source": []
  }
 ],
 "metadata": {
  "kernelspec": {
   "display_name": "Python 3 (ipykernel)",
   "language": "python",
   "name": "python3"
  },
  "language_info": {
   "codemirror_mode": {
    "name": "ipython",
    "version": 3
   },
   "file_extension": ".py",
   "mimetype": "text/x-python",
   "name": "python",
   "nbconvert_exporter": "python",
   "pygments_lexer": "ipython3",
   "version": "3.11.3"
  }
 },
 "nbformat": 4,
 "nbformat_minor": 5
}
