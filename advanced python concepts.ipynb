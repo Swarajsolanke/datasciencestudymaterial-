{
 "cells": [
  {
   "cell_type": "code",
   "execution_count": 1,
   "id": "a76c4822",
   "metadata": {},
   "outputs": [
    {
     "name": "stdout",
     "output_type": "stream",
     "text": [
      "it is mistake\n"
     ]
    }
   ],
   "source": [
    "# exceptional handling\n",
    "l=[1,2,3,45,7]\n",
    "try:\n",
    "    for i in rsnge(len(l)):\n",
    "        print(l[i])\n",
    "except:\n",
    "        print(\"it is mistake\")"
   ]
  },
  {
   "cell_type": "code",
   "execution_count": 2,
   "id": "f67712d9",
   "metadata": {},
   "outputs": [
    {
     "name": "stdout",
     "output_type": "stream",
     "text": [
      "enter a number:3\n",
      "enter a second number:5\n",
      "it is  error\n"
     ]
    }
   ],
   "source": [
    "\n",
    "a=int(input(\"enter a number:\"))\n",
    "b=int(input('enter a second number:'))\n",
    "print(\"it is  error\")"
   ]
  },
  {
   "cell_type": "code",
   "execution_count": 3,
   "id": "f99456cf",
   "metadata": {},
   "outputs": [
    {
     "name": "stdout",
     "output_type": "stream",
     "text": [
      "it cause error not writable\n"
     ]
    }
   ],
   "source": [
    "try:\n",
    "    p=open(\"test1.txt\",\"r\")\n",
    "    p.write(\"retgebe\")\n",
    "except Exception as e:\n",
    "    print(\"it cause error\",e)"
   ]
  },
  {
   "cell_type": "code",
   "execution_count": 4,
   "id": "bc2e5d7d",
   "metadata": {},
   "outputs": [
    {
     "name": "stdout",
     "output_type": "stream",
     "text": [
      "5.0\n",
      "10.0\n",
      "exception  has occured unsupported operand type(s) for /: 'str' and 'int'\n"
     ]
    }
   ],
   "source": [
    "L=[10,20,\"20\",40]\n",
    "try:\n",
    "    for i in L:\n",
    "        print(i/2)\n",
    "except Exception as e:\n",
    "    print(\"exception  has occured\",e)"
   ]
  },
  {
   "cell_type": "code",
   "execution_count": 5,
   "id": "d630befb",
   "metadata": {},
   "outputs": [
    {
     "name": "stdout",
     "output_type": "stream",
     "text": [
      "5\n",
      "make some sort of solution\n",
      "it is finally executed\n"
     ]
    }
   ],
   "source": [
    "try:\n",
    "    \"\"\"this exectional handling\"\"\"\n",
    "    d={\"key1\":1,\"key2\":3}\n",
    "    d[\"key1\"]=int(input())\n",
    "    f=open(\"test1.txt\",\"r\")\n",
    "except Exception as e:\n",
    "    print(\"it is error\",e)\n",
    "except valueError as E:\n",
    "    print(\"it is causing error\",E)\n",
    "else:\n",
    "    print(\"make some sort of solution\")\n",
    "finally:\n",
    "    print(\"it is finally executed\")"
   ]
  },
  {
   "cell_type": "code",
   "execution_count": 6,
   "id": "b3569ec3",
   "metadata": {},
   "outputs": [
    {
     "name": "stdout",
     "output_type": "stream",
     "text": [
      "{'key1': 5, 'key2': 3}\n"
     ]
    }
   ],
   "source": [
    "print(d)"
   ]
  },
  {
   "cell_type": "code",
   "execution_count": 7,
   "id": "71bea18a",
   "metadata": {},
   "outputs": [
    {
     "name": "stdout",
     "output_type": "stream",
     "text": [
      "enter a number2\n"
     ]
    }
   ],
   "source": [
    "# write program which will keep on repating until it inter integer value\n",
    "def atten():\n",
    "    while True:\n",
    "        try:\n",
    "            p=int(input(\"enter a number\"))\n",
    "            break\n",
    "        except:\n",
    "            print(\"it is having error\")\n",
    "            continue\n",
    "atten()"
   ]
  },
  {
   "cell_type": "code",
   "execution_count": 9,
   "id": "da886482",
   "metadata": {},
   "outputs": [
    {
     "name": "stdout",
     "output_type": "stream",
     "text": [
      "it is causing error\n"
     ]
    }
   ],
   "source": [
    "# mannully raising error the error  \n",
    "def sunny(a):\n",
    "    if a<0:\n",
    "        raise Exception(\"it is negative number\")\n",
    "    else:\n",
    "        print(\"it is causing error\")\n",
    "sunny(2)"
   ]
  },
  {
   "cell_type": "code",
   "execution_count": 10,
   "id": "85844fb6",
   "metadata": {},
   "outputs": [],
   "source": [
    "# logging is used to show the info in production and industry rather than print\n",
    "import logging"
   ]
  },
  {
   "cell_type": "code",
   "execution_count": 11,
   "id": "68cb2dac",
   "metadata": {},
   "outputs": [],
   "source": [
    "logging.basicConfig(filename=\"test2.txt\",level=logging.INFO)"
   ]
  },
  {
   "cell_type": "code",
   "execution_count": 12,
   "id": "2d279cfc",
   "metadata": {},
   "outputs": [],
   "source": [
    "logging.info(\"this is my info\")"
   ]
  },
  {
   "cell_type": "code",
   "execution_count": 13,
   "id": "dd2e54f0",
   "metadata": {},
   "outputs": [],
   "source": [
    "logging.warning(\"this is warning  i am getting\")\n",
    "logging.error(\"this is first error i encounter\")"
   ]
  },
  {
   "cell_type": "code",
   "execution_count": 14,
   "id": "4d4cb383",
   "metadata": {},
   "outputs": [],
   "source": [
    "logging.shutdown()"
   ]
  },
  {
   "cell_type": "code",
   "execution_count": 15,
   "id": "7fa91caa",
   "metadata": {},
   "outputs": [
    {
     "data": {
      "text/plain": [
       "'C:\\\\Users\\\\rajpu'"
      ]
     },
     "execution_count": 15,
     "metadata": {},
     "output_type": "execute_result"
    }
   ],
   "source": [
    "pwd()"
   ]
  },
  {
   "cell_type": "code",
   "execution_count": 16,
   "id": "ac5e6b15",
   "metadata": {},
   "outputs": [],
   "source": [
    "import logging\n",
    "logging.basicConfig(filename=\"test3.log\",level=logging.DEBUG,format=\"%(asctime)s %levelname %(message)s\")"
   ]
  },
  {
   "cell_type": "code",
   "execution_count": 17,
   "id": "9cb9a538",
   "metadata": {},
   "outputs": [],
   "source": [
    "logging.warning(\"this is warning i would take\")\n",
    "logging.error(\"this is error i am getting\")\n",
    "logging.info(\"this is my first info\")\n",
    "logging.debug(\"this is debugger\")"
   ]
  },
  {
   "cell_type": "code",
   "execution_count": 1,
   "id": "8938449d",
   "metadata": {},
   "outputs": [],
   "source": [
    "import logging\n",
    "def diverr(a,b):\n",
    "    logging.info(\"this is my first time to used logging\",a,b)\n",
    "    try:\n",
    "        div=a/b\n",
    "        logging.info(\"executed successfully\")\n",
    "        \n",
    "    except Exception as e:\n",
    "        logging.error(\"errror is occured\")\n",
    "        logging.exception(\"Exception has happened\",str(e))\n",
    "diverr(3,4)"
   ]
  },
  {
   "cell_type": "code",
   "execution_count": 19,
   "id": "123ef19d",
   "metadata": {},
   "outputs": [
    {
     "data": {
      "text/plain": [
       "'\"error\\nwarning\\ndebug\\ninfo'"
      ]
     },
     "execution_count": 19,
     "metadata": {},
     "output_type": "execute_result"
    }
   ],
   "source": [
    "\"\"\"\"error\n",
    "warning\n",
    "debug\n",
    "info\"\"\"\n"
   ]
  },
  {
   "cell_type": "code",
   "execution_count": 6,
   "id": "2517361f",
   "metadata": {},
   "outputs": [
    {
     "data": {
      "text/plain": [
       "'C:\\\\Users\\\\rajpu'"
      ]
     },
     "execution_count": 6,
     "metadata": {},
     "output_type": "execute_result"
    }
   ],
   "source": [
    "\n",
    "pwd()\n"
   ]
  },
  {
   "cell_type": "code",
   "execution_count": 7,
   "id": "b593cc57",
   "metadata": {},
   "outputs": [
    {
     "name": "stdout",
     "output_type": "stream",
     "text": [
      " Volume in drive C is OS\n",
      " Volume Serial Number is 2AD2-D675\n",
      "\n",
      " Directory of C:\\Users\\rajpu\n",
      "\n",
      "04/02/2023  01:59 AM             3,369  task 3 Image to Pencil Sketch with Python.ipynb\n",
      "04/06/2023  09:12 PM    <DIR>          .\n",
      "03/30/2023  11:04 PM    <DIR>          ..\n",
      "03/19/2023  04:20 PM    <DIR>          .conda\n",
      "03/19/2023  04:13 PM                25 .condarc\n",
      "03/19/2023  04:12 PM    <DIR>          .continuum\n",
      "02/09/2023  06:27 PM    <DIR>          .idlerc\n",
      "04/05/2023  12:12 AM    <DIR>          .ipynb_checkpoints\n",
      "02/24/2023  11:58 PM    <DIR>          .ipython\n",
      "03/27/2023  03:38 PM    <DIR>          .jupyter\n",
      "04/01/2023  02:08 PM    <DIR>          .keras\n",
      "03/27/2023  04:28 PM    <DIR>          .matplotlib\n",
      "04/06/2023  09:12 PM             8,450 advanced python concepts.ipynb\n",
      "03/30/2023  11:01 PM         1,947,262 basic python program.ipynb\n",
      "03/31/2023  08:42 PM         1,280,430 business-financial-data-september-2022-quarter.csv\n",
      "03/31/2023  12:36 AM    <DIR>          Contacts\n",
      "02/07/2023  02:29 PM    <DIR>          Documents\n",
      "04/06/2023  08:54 PM    <DIR>          Downloads\n",
      "04/04/2023  10:32 PM           389,123 explorative data analysis of global terrorism .ipynb\n",
      "03/31/2023  12:36 AM    <DIR>          Favorites\n",
      "04/03/2023  10:26 PM       162,812,896 global dataset.csv\n",
      "04/01/2023  02:18 AM           264,320 Iris data analysis ML project task 1.ipynb\n",
      "03/31/2023  08:51 PM             4,617 IRIS.csv\n",
      "03/31/2023  12:36 AM    <DIR>          Links\n",
      "04/02/2023  05:58 PM         1,349,856 members.csv.7z\n",
      "03/31/2023  12:36 AM    <DIR>          Music\n",
      "04/03/2023  12:08 AM            10,393 music recommender system .ipynb\n",
      "03/26/2023  01:27 AM           491,322 nptel content.ipynb\n",
      "04/01/2023  01:52 PM           115,525 NSE-TATAGLOBAL.csv\n",
      "03/31/2023  12:32 AM    <DIR>          OneDrive\n",
      "04/02/2023  01:23 AM           218,586 puppy.jpg\n",
      "04/02/2023  01:50 AM           112,281 puppy1.jpg\n",
      "03/20/2023  12:52 PM    <DIR>          PycharmProjects\n",
      "03/27/2023  10:57 PM               141 Python-3.9.16.tgz.sig\n",
      "03/31/2023  12:36 AM    <DIR>          Saved Games\n",
      "03/31/2023  12:36 AM    <DIR>          Searches\n",
      "04/01/2023  09:11 PM         1,854,192 stock market analysis task-2.ipynb\n",
      "03/30/2023  10:24 PM               103 test.txt\n",
      "04/05/2023  01:38 AM               220 test1.txt\n",
      "04/06/2023  08:30 PM               905 test2.txt\n",
      "04/06/2023  08:00 PM                 0 test3.log\n",
      "03/30/2023  08:25 PM                 0 txt.c\n",
      "03/27/2023  07:45 PM             3,987 Untitled6.ipynb\n",
      "04/04/2023  10:38 PM    <DIR>          Videos\n",
      "              23 File(s)    170,868,003 bytes\n",
      "              21 Dir(s)  411,432,656,896 bytes free\n"
     ]
    }
   ],
   "source": [
    "ls"
   ]
  },
  {
   "cell_type": "code",
   "execution_count": 8,
   "id": "8295c6e9",
   "metadata": {},
   "outputs": [
    {
     "data": {
      "text/plain": [
       "<_io.TextIOWrapper name='test5.py' mode='w' encoding='cp1252'>"
      ]
     },
     "execution_count": 8,
     "metadata": {},
     "output_type": "execute_result"
    }
   ],
   "source": [
    "open(\"test5.py\",\"w\")"
   ]
  },
  {
   "cell_type": "code",
   "execution_count": 9,
   "id": "909e0114",
   "metadata": {},
   "outputs": [
    {
     "name": "stdout",
     "output_type": "stream",
     "text": [
      " Volume in drive C is OS\n",
      " Volume Serial Number is 2AD2-D675\n",
      "\n",
      " Directory of C:\\Users\\rajpu\n",
      "\n",
      "04/02/2023  01:59 AM             3,369  task 3 Image to Pencil Sketch with Python.ipynb\n",
      "04/06/2023  09:12 PM    <DIR>          .\n",
      "03/30/2023  11:04 PM    <DIR>          ..\n",
      "03/19/2023  04:20 PM    <DIR>          .conda\n",
      "03/19/2023  04:13 PM                25 .condarc\n",
      "03/19/2023  04:12 PM    <DIR>          .continuum\n",
      "02/09/2023  06:27 PM    <DIR>          .idlerc\n",
      "04/05/2023  12:12 AM    <DIR>          .ipynb_checkpoints\n",
      "02/24/2023  11:58 PM    <DIR>          .ipython\n",
      "03/27/2023  03:38 PM    <DIR>          .jupyter\n",
      "04/01/2023  02:08 PM    <DIR>          .keras\n",
      "03/27/2023  04:28 PM    <DIR>          .matplotlib\n",
      "04/06/2023  09:12 PM             8,450 advanced python concepts.ipynb\n",
      "03/30/2023  11:01 PM         1,947,262 basic python program.ipynb\n",
      "03/31/2023  08:42 PM         1,280,430 business-financial-data-september-2022-quarter.csv\n",
      "03/31/2023  12:36 AM    <DIR>          Contacts\n",
      "02/07/2023  02:29 PM    <DIR>          Documents\n",
      "04/06/2023  08:54 PM    <DIR>          Downloads\n",
      "04/04/2023  10:32 PM           389,123 explorative data analysis of global terrorism .ipynb\n",
      "03/31/2023  12:36 AM    <DIR>          Favorites\n",
      "04/03/2023  10:26 PM       162,812,896 global dataset.csv\n",
      "04/01/2023  02:18 AM           264,320 Iris data analysis ML project task 1.ipynb\n",
      "03/31/2023  08:51 PM             4,617 IRIS.csv\n",
      "03/31/2023  12:36 AM    <DIR>          Links\n",
      "04/02/2023  05:58 PM         1,349,856 members.csv.7z\n",
      "03/31/2023  12:36 AM    <DIR>          Music\n",
      "04/03/2023  12:08 AM            10,393 music recommender system .ipynb\n",
      "03/26/2023  01:27 AM           491,322 nptel content.ipynb\n",
      "04/01/2023  01:52 PM           115,525 NSE-TATAGLOBAL.csv\n",
      "03/31/2023  12:32 AM    <DIR>          OneDrive\n",
      "04/02/2023  01:23 AM           218,586 puppy.jpg\n",
      "04/02/2023  01:50 AM           112,281 puppy1.jpg\n",
      "03/20/2023  12:52 PM    <DIR>          PycharmProjects\n",
      "03/27/2023  10:57 PM               141 Python-3.9.16.tgz.sig\n",
      "03/31/2023  12:36 AM    <DIR>          Saved Games\n",
      "03/31/2023  12:36 AM    <DIR>          Searches\n",
      "04/01/2023  09:11 PM         1,854,192 stock market analysis task-2.ipynb\n",
      "03/30/2023  10:24 PM               103 test.txt\n",
      "04/05/2023  01:38 AM               220 test1.txt\n",
      "04/06/2023  08:30 PM               905 test2.txt\n",
      "04/06/2023  08:00 PM                 0 test3.log\n",
      "04/06/2023  09:12 PM                 0 test5.py\n",
      "03/30/2023  08:25 PM                 0 txt.c\n",
      "03/27/2023  07:45 PM             3,987 Untitled6.ipynb\n",
      "04/04/2023  10:38 PM    <DIR>          Videos\n",
      "              24 File(s)    170,868,003 bytes\n",
      "              21 Dir(s)  411,432,853,504 bytes free\n"
     ]
    }
   ],
   "source": [
    "ls \n"
   ]
  },
  {
   "cell_type": "code",
   "execution_count": 11,
   "id": "f3ff2dab",
   "metadata": {},
   "outputs": [
    {
     "data": {
      "text/plain": [
       "['In',\n",
       " 'Out',\n",
       " '_',\n",
       " '_2',\n",
       " '_6',\n",
       " '_8',\n",
       " '__',\n",
       " '___',\n",
       " '__builtin__',\n",
       " '__builtins__',\n",
       " '__doc__',\n",
       " '__loader__',\n",
       " '__name__',\n",
       " '__package__',\n",
       " '__spec__',\n",
       " '_dh',\n",
       " '_exit_code',\n",
       " '_i',\n",
       " '_i1',\n",
       " '_i10',\n",
       " '_i11',\n",
       " '_i2',\n",
       " '_i3',\n",
       " '_i4',\n",
       " '_i5',\n",
       " '_i6',\n",
       " '_i7',\n",
       " '_i8',\n",
       " '_i9',\n",
       " '_ih',\n",
       " '_ii',\n",
       " '_iii',\n",
       " '_oh',\n",
       " 'diverr',\n",
       " 'exit',\n",
       " 'get_ipython',\n",
       " 'logging',\n",
       " 'quit']"
      ]
     },
     "execution_count": 11,
     "metadata": {},
     "output_type": "execute_result"
    }
   ],
   "source": [
    "#len(l)\n",
    "dir()"
   ]
  },
  {
   "cell_type": "code",
   "execution_count": 14,
   "id": "88291f26",
   "metadata": {},
   "outputs": [
    {
     "name": "stdout",
     "output_type": "stream",
     "text": [
      "123\n",
      "petrol voly 123\n"
     ]
    }
   ],
   "source": [
    "# oops concepts\n",
    "class car:\n",
    "    def __init__(self,fuel_type,name,avarge):\n",
    "        self.fuel_type=fuel_type\n",
    "        self.name=name\n",
    "        self.avarge=int(input())\n",
    "    def test(self):\n",
    "        print(self.fuel_type,self.name,self.avarge)\n",
    "fortuner=car(\"petrol\",\"voly\",\"123\")\n",
    "fortuner.test()\n",
    "\n"
   ]
  },
  {
   "cell_type": "code",
   "execution_count": 11,
   "id": "8a081360",
   "metadata": {},
   "outputs": [
    {
     "name": "stdout",
     "output_type": "stream",
     "text": [
      "1\n",
      "2\n",
      "3\n",
      "5\n"
     ]
    },
    {
     "data": {
      "text/plain": [
       "[5, 3, 2, 1]"
      ]
     },
     "execution_count": 11,
     "metadata": {},
     "output_type": "execute_result"
    }
   ],
   "source": [
    "#without the init method \n",
    "class pareser_list:\n",
    "   \n",
    "    def parser(self,a):\n",
    "        if type(a)==list:\n",
    "            for i in a:\n",
    "                print(i)\n",
    "    def reverse_list(self,z):\n",
    "        if type(z)==list:\n",
    "            for i in z:\n",
    "                return z[::-1]\n",
    "            \n",
    "c=pareser_list()\n",
    "c.parser([1,2,3,5])\n",
    "c.reverse_list([1,2,3,5])                "
   ]
  },
  {
   "cell_type": "code",
   "execution_count": 12,
   "id": "c91aeed7",
   "metadata": {},
   "outputs": [
    {
     "name": "stdout",
     "output_type": "stream",
     "text": [
      "1\n",
      "2\n",
      "3\n",
      "5\n"
     ]
    },
    {
     "data": {
      "text/plain": [
       "[5, 3, 2, 1]"
      ]
     },
     "execution_count": 12,
     "metadata": {},
     "output_type": "execute_result"
    }
   ],
   "source": [
    "#with the init method\n",
    "class pareser_list:\n",
    "    def __init__(self,l):\n",
    "        self.l=l\n",
    "   \n",
    "    def parser(self):\n",
    "        if type(self.l)==list:\n",
    "            for i in self.l:\n",
    "                print(i)\n",
    "    def reverse_list(self):\n",
    "        if type(self.l)==list:\n",
    "            for i in self.l:\n",
    "                return self.l[::-1]\n",
    "            \n",
    "c=pareser_list([1,2,3,5])\n",
    "c.parser()\n",
    "c.reverse_list()      \n",
    "\n"
   ]
  },
  {
   "cell_type": "code",
   "execution_count": 1,
   "id": "72caec40",
   "metadata": {},
   "outputs": [
    {
     "name": "stdout",
     "output_type": "stream",
     "text": [
      "{\"swaraj\":\"solanke\",\"veera\":\"rajput\"}\n",
      "{'swaraj': 'solanke', 'veera': 'rajput'} <class 'dict'>\n",
      "['swaraj', 'veera']\n",
      "['solanke', 'rajput']\n"
     ]
    }
   ],
   "source": [
    "# make a class dictionary parsal :\n",
    "\"\"\"\"1.write a function to give all the keys\n",
    "2.write a function to give all the values\n",
    "3.write a function to throw an exception in case of input is not dictionay\n",
    "4.write a function to take user input and then parse a key and value out of dictionay\n",
    "5.write a function to insert new key value pair into dictionary\"\"\"\n",
    "class dictionary_parsal:\n",
    "    def __init__(self,a):\n",
    "        self.a=a\n",
    "        \n",
    "    def getkeys(self):\n",
    "        if self.notdict():\n",
    "            return list(self.a.keys())\n",
    "    def getvalues(self):\n",
    "        if self.notdict():\n",
    "            return list(self.a.values())\n",
    "    def userinput(self):\n",
    "        self.a=eval(input())\n",
    "        print(self.a,type(self.a))\n",
    "        print(self.getkeys())\n",
    "        print(self.getvalues())\n",
    "    def notdict(self):\n",
    "        if type(self.a)!=dict:\n",
    "            raise Exception (self.a,\"it is not dictonary\")\n",
    "        return 1\n",
    "    def insertion(self,k,v):\n",
    "        self.a[k]=v\n",
    "\n",
    "        \n",
    "c=dictionary_parsal({1:\"swaraj\",2:\"solanke\"})\n",
    "#c.userinput() \n",
    "c.notdict()\n",
    "c.getvalues()\n",
    "c.getkeys()\n",
    "c.userinput()\n",
    "\n"
   ]
  },
  {
   "cell_type": "code",
   "execution_count": null,
   "id": "e6c19151",
   "metadata": {},
   "outputs": [],
   "source": [
    "c.getvalues()"
   ]
  },
  {
   "cell_type": "code",
   "execution_count": 1,
   "id": "da35815a",
   "metadata": {},
   "outputs": [
    {
     "data": {
      "text/plain": [
       "<_io.TextIOWrapper name='mydict.py' mode='w' encoding='cp1252'>"
      ]
     },
     "execution_count": 1,
     "metadata": {},
     "output_type": "execute_result"
    }
   ],
   "source": [
    "open(\"mydict.py\",\"w\")"
   ]
  },
  {
   "cell_type": "code",
   "execution_count": 5,
   "id": "39f72569",
   "metadata": {},
   "outputs": [
    {
     "name": "stdout",
     "output_type": "stream",
     "text": [
      " Volume in drive C is OS\n",
      " Volume Serial Number is 2AD2-D675\n",
      "\n",
      " Directory of C:\\Users\\rajpu\n",
      "\n",
      "04/02/2023  01:59 AM             3,369  task 3 Image to Pencil Sketch with Python.ipynb\n",
      "04/09/2023  01:02 PM    <DIR>          .\n",
      "03/30/2023  11:04 PM    <DIR>          ..\n",
      "04/07/2023  12:08 AM               487 .bash_history\n",
      "03/19/2023  04:20 PM    <DIR>          .conda\n",
      "03/19/2023  04:13 PM                25 .condarc\n",
      "03/19/2023  04:12 PM    <DIR>          .continuum\n",
      "02/09/2023  06:27 PM    <DIR>          .idlerc\n",
      "04/05/2023  12:12 AM    <DIR>          .ipynb_checkpoints\n",
      "02/24/2023  11:58 PM    <DIR>          .ipython\n",
      "03/27/2023  03:38 PM    <DIR>          .jupyter\n",
      "04/01/2023  02:08 PM    <DIR>          .keras\n",
      "03/27/2023  04:28 PM    <DIR>          .matplotlib\n",
      "04/09/2023  01:02 PM            24,542 advanced python concepts.ipynb\n",
      "03/30/2023  11:01 PM         1,947,262 basic python program.ipynb\n",
      "03/31/2023  08:42 PM         1,280,430 business-financial-data-september-2022-quarter.csv\n",
      "03/31/2023  12:36 AM    <DIR>          Contacts\n",
      "02/07/2023  02:29 PM    <DIR>          Documents\n",
      "04/08/2023  10:55 PM    <DIR>          Downloads\n",
      "04/04/2023  10:32 PM           389,123 explorative data analysis of global terrorism .ipynb\n",
      "03/31/2023  12:36 AM    <DIR>          Favorites\n",
      "04/06/2023  11:40 PM        53,792,928 Git-2.40.0-64-bit.exe\n",
      "04/03/2023  10:26 PM       162,812,896 global dataset.csv\n",
      "04/01/2023  02:18 AM           264,320 Iris data analysis ML project task 1.ipynb\n",
      "03/31/2023  08:51 PM             4,617 IRIS.csv\n",
      "03/31/2023  12:36 AM    <DIR>          Links\n",
      "04/02/2023  05:58 PM         1,349,856 members.csv.7z\n",
      "03/31/2023  12:36 AM    <DIR>          Music\n",
      "04/03/2023  12:08 AM            10,393 music recommender system .ipynb\n",
      "04/09/2023  01:04 PM               605 mydict.py\n",
      "03/26/2023  01:27 AM           491,322 nptel content.ipynb\n",
      "04/01/2023  01:52 PM           115,525 NSE-TATAGLOBAL.csv\n",
      "03/31/2023  12:32 AM    <DIR>          OneDrive\n",
      "04/02/2023  01:23 AM           218,586 puppy.jpg\n",
      "04/02/2023  01:50 AM           112,281 puppy1.jpg\n",
      "03/20/2023  12:52 PM    <DIR>          PycharmProjects\n",
      "03/27/2023  10:57 PM               141 Python-3.9.16.tgz.sig\n",
      "03/31/2023  12:36 AM    <DIR>          Saved Games\n",
      "03/31/2023  12:36 AM    <DIR>          Searches\n",
      "04/01/2023  09:11 PM         1,854,192 stock market analysis task-2.ipynb\n",
      "04/09/2023  12:58 PM               869 swaraj solanke - Shortcut.lnk\n",
      "04/07/2023  12:11 AM    <DIR>          test\n",
      "04/06/2023  10:32 PM                32 test3.log\n",
      "04/06/2023  09:12 PM                 0 test5.py\n",
      "03/30/2023  08:25 PM                 0 txt.c\n",
      "03/27/2023  07:45 PM             3,987 Untitled6.ipynb\n",
      "04/04/2023  10:38 PM    <DIR>          Videos\n",
      "              25 File(s)    224,677,788 bytes\n",
      "              22 Dir(s)  406,890,819,584 bytes free\n"
     ]
    }
   ],
   "source": [
    "ls\n"
   ]
  },
  {
   "cell_type": "code",
   "execution_count": 1,
   "id": "64043007",
   "metadata": {},
   "outputs": [
    {
     "name": "stdout",
     "output_type": "stream",
     "text": [
      "{1:\"swaraj\",2:\"solanke\"}\n",
      "{1: 'swaraj', 2: 'solanke'} <class 'dict'>\n",
      "[1, 2]\n",
      "['swaraj', 'solanke']\n"
     ]
    }
   ],
   "source": [
    "# createed module and then call the class \n",
    "import mydict\n",
    "d=mydict.dictionary_parsal({\"a\":\"swaraj\",\"b\":\"solanke\"})\n",
    "d.getkeys()\n",
    "d.getvalues()\n",
    "d.userinput()"
   ]
  },
  {
   "cell_type": "code",
   "execution_count": null,
   "id": "f5106c17",
   "metadata": {},
   "outputs": [],
   "source": [
    "\"\"\"\"\n",
    "1)create a own package for all the  list function;\n",
    "2)create a own package for all the set function\n",
    "3)create a own package for all the dictionary function\n",
    "4) create a won package for all the tuple fuction \n",
    " \n",
    " restriction:1) do not used print instead used logging file concept\n",
    " 2)always used exception handling\n",
    " \n",
    " \n",
    " \"\"\"\n",
    "\n",
    "\n"
   ]
  },
  {
   "cell_type": "code",
   "execution_count": 3,
   "id": "222dd6c7",
   "metadata": {},
   "outputs": [
    {
     "data": {
      "text/plain": [
       "'solanke'"
      ]
     },
     "execution_count": 3,
     "metadata": {},
     "output_type": "execute_result"
    }
   ],
   "source": [
    "# inheritance \n",
    "class abc:\n",
    "    def __init__(self,a,b):\n",
    "        self.a=a\n",
    "        self.b=b\n",
    "    def test(self):\n",
    "        print(\"this is class abc\")\n",
    "class pqr(abc):\n",
    "    pass\n",
    "objet=pqr(\"swaraj\",\"solanke\")"
   ]
  },
  {
   "cell_type": "code",
   "execution_count": 22,
   "id": "930b8a74",
   "metadata": {},
   "outputs": [
    {
     "data": {
      "text/plain": [
       "902"
      ]
     },
     "execution_count": 22,
     "metadata": {},
     "output_type": "execute_result"
    }
   ],
   "source": [
    "#multiple inheritance \n",
    "class Student:\n",
    "    def __init__(self,name,email,phone):\n",
    "        self.n=name\n",
    "        self.e=email\n",
    "        self.t=phone\n",
    "    def display(self):\n",
    "        print(\"this is class student\")\n",
    "class person:\n",
    "    def __init__(self,p,q,r):\n",
    "        self.p=p\n",
    "        self.q=q\n",
    "        self.r=r\n",
    "    def print1(self):\n",
    "        print(\"this is the person class\")\n",
    "class empolyee(person,Student):\n",
    "    def __init__(self,*args,**kwargs):\n",
    "        Student.__init__(self,*args)\n",
    "        person.__init__(self,**kwargs)\n",
    "        \n",
    "person1=empolyee(1,2,902,p=12,q=34,r=34)\n",
    "person1.t\n"
   ]
  },
  {
   "cell_type": "code",
   "execution_count": 28,
   "id": "8010965d",
   "metadata": {},
   "outputs": [
    {
     "name": "stdout",
     "output_type": "stream",
     "text": [
      "this is 2 class\n"
     ]
    },
    {
     "data": {
      "text/plain": [
       "3"
      ]
     },
     "execution_count": 28,
     "metadata": {},
     "output_type": "execute_result"
    }
   ],
   "source": [
    "# multi level inheritance\n",
    "class abc:\n",
    "    def __init__(self,a,b):\n",
    "        self.a=a\n",
    "        self.b=b\n",
    "    def test(self):\n",
    "        print(\"this is \")\n",
    "class pqr(abc):\n",
    "    def test2(self):\n",
    "        print(\"this is 2 class\")\n",
    "class rtv(pqr):\n",
    "    def test3(self):\n",
    "        print(\"this is class 3 \")\n",
    "p=rtv(\"1\",3)\n",
    "p.test2()\n",
    "p.a\n",
    "p.b"
   ]
  },
  {
   "cell_type": "code",
   "execution_count": 33,
   "id": "c4908ade",
   "metadata": {},
   "outputs": [
    {
     "name": "stdout",
     "output_type": "stream",
     "text": [
      "inserted lines.....\n",
      "this is good trail\n"
     ]
    }
   ],
   "source": [
    "# create a class file for reading the data with respective file with method new read and write\n",
    "# try to read and write method for paresnt class to child class to perform read and write opeartion\n",
    "class readfile:\n",
    "    def __init__(self,fileobj,lines):\n",
    "        self.file =fileobj\n",
    "        self.lines=lines\n",
    "    def readfile(self):\n",
    "        file2=open(self.file,\"r\")\n",
    "        line=file2.readline()\n",
    "        while(line!=\"\"):\n",
    "            try:\n",
    "                print(line)\n",
    "                line=file2.readline()\n",
    "            except Exception as e:\n",
    "                print(\"can't be read please try again to open \",e)\n",
    "        else:\n",
    "            print(\"this is good trail\")\n",
    "    def writefile(self):\n",
    "        content_write=open(self.file,\"w\")\n",
    "        content_write.writelines(lines)\n",
    "        content_write.close()\n",
    "class read_file1(readfile):\n",
    "    def readfile1(self):\n",
    "        print(\"inheritance of readfile class\")\n",
    "        \n",
    "file1=\"test.txt\"\n",
    "lines=\"inserted lines.....\"\n",
    "\n",
    "read_write=read_file1(file1,lines)\n",
    "read_write.writefile()\n",
    "read_write.readfile()"
   ]
  },
  {
   "cell_type": "code",
   "execution_count": 1,
   "id": "c3ecbf87",
   "metadata": {},
   "outputs": [
    {
     "name": "stdout",
     "output_type": "stream",
     "text": [
      " Volume in drive C is OS\n",
      " Volume Serial Number is 2AD2-D675\n",
      "\n",
      " Directory of C:\\Users\\rajpu\n",
      "\n",
      "04/02/2023  01:59 AM             3,369  task 3 Image to Pencil Sketch with Python.ipynb\n",
      "04/09/2023  06:40 PM    <DIR>          .\n",
      "03/30/2023  11:04 PM    <DIR>          ..\n",
      "04/07/2023  12:08 AM               487 .bash_history\n",
      "03/19/2023  04:20 PM    <DIR>          .conda\n",
      "03/19/2023  04:13 PM                25 .condarc\n",
      "03/19/2023  04:12 PM    <DIR>          .continuum\n",
      "02/09/2023  06:27 PM    <DIR>          .idlerc\n",
      "04/05/2023  12:12 AM    <DIR>          .ipynb_checkpoints\n",
      "02/24/2023  11:58 PM    <DIR>          .ipython\n",
      "03/27/2023  03:38 PM    <DIR>          .jupyter\n",
      "04/01/2023  02:08 PM    <DIR>          .keras\n",
      "03/27/2023  04:28 PM    <DIR>          .matplotlib\n",
      "04/09/2023  01:20 PM    <DIR>          __pycache__\n",
      "04/09/2023  06:40 PM            30,520 advanced python concepts.ipynb\n",
      "03/30/2023  11:01 PM         1,947,262 basic python program.ipynb\n",
      "03/31/2023  08:42 PM         1,280,430 business-financial-data-september-2022-quarter.csv\n",
      "03/31/2023  12:36 AM    <DIR>          Contacts\n",
      "02/07/2023  02:29 PM    <DIR>          Documents\n",
      "04/09/2023  02:36 PM    <DIR>          Downloads\n",
      "04/04/2023  10:32 PM           389,123 explorative data analysis of global terrorism .ipynb\n",
      "03/31/2023  12:36 AM    <DIR>          Favorites\n",
      "04/06/2023  11:40 PM        53,792,928 Git-2.40.0-64-bit.exe\n",
      "04/03/2023  10:26 PM       162,812,896 global dataset.csv\n",
      "04/01/2023  02:18 AM           264,320 Iris data analysis ML project task 1.ipynb\n",
      "03/31/2023  08:51 PM             4,617 IRIS.csv\n",
      "03/31/2023  12:36 AM    <DIR>          Links\n",
      "04/02/2023  05:58 PM         1,349,856 members.csv.7z\n",
      "03/31/2023  12:36 AM    <DIR>          Music\n",
      "04/03/2023  12:08 AM            10,393 music recommender system .ipynb\n",
      "04/09/2023  01:20 PM               608 mydict.py\n",
      "03/26/2023  01:27 AM           491,322 nptel content.ipynb\n",
      "04/01/2023  01:52 PM           115,525 NSE-TATAGLOBAL.csv\n",
      "03/31/2023  12:32 AM    <DIR>          OneDrive\n",
      "04/02/2023  01:23 AM           218,586 puppy.jpg\n",
      "04/02/2023  01:50 AM           112,281 puppy1.jpg\n",
      "03/20/2023  12:52 PM    <DIR>          PycharmProjects\n",
      "03/27/2023  10:57 PM               141 Python-3.9.16.tgz.sig\n",
      "03/31/2023  12:36 AM    <DIR>          Saved Games\n",
      "03/31/2023  12:36 AM    <DIR>          Searches\n",
      "04/01/2023  09:11 PM         1,854,192 stock market analysis task-2.ipynb\n",
      "04/09/2023  12:58 PM               869 swaraj solanke - Shortcut.lnk\n",
      "04/07/2023  12:11 AM    <DIR>          test\n",
      "04/09/2023  06:39 PM                19 test.txt\n",
      "04/06/2023  10:32 PM                32 test3.log\n",
      "04/06/2023  09:12 PM                 0 test5.py\n",
      "03/30/2023  08:25 PM                 0 txt.c\n",
      "03/27/2023  07:45 PM             3,987 Untitled6.ipynb\n",
      "04/04/2023  10:38 PM    <DIR>          Videos\n",
      "              26 File(s)    224,683,788 bytes\n",
      "              23 Dir(s)  405,631,135,744 bytes free\n"
     ]
    }
   ],
   "source": [
    "ls"
   ]
  },
  {
   "cell_type": "code",
   "execution_count": 13,
   "id": "76eb1388",
   "metadata": {},
   "outputs": [
    {
     "ename": "AttributeError",
     "evalue": "'test2' object has no attribute '_test2__b'",
     "output_type": "error",
     "traceback": [
      "\u001b[1;31m---------------------------------------------------------------------------\u001b[0m",
      "\u001b[1;31mAttributeError\u001b[0m                            Traceback (most recent call last)",
      "\u001b[1;32m~\\AppData\\Local\\Temp\\ipykernel_6032\\1258354526.py\u001b[0m in \u001b[0;36m<module>\u001b[1;34m\u001b[0m\n\u001b[0;32m      9\u001b[0m \u001b[0mtest1\u001b[0m\u001b[1;33m=\u001b[0m\u001b[0mtest2\u001b[0m\u001b[1;33m(\u001b[0m\u001b[1;34m\"s\"\u001b[0m\u001b[1;33m,\u001b[0m\u001b[1;34m\"v\"\u001b[0m\u001b[1;33m,\u001b[0m\u001b[1;34m\"p\"\u001b[0m\u001b[1;33m)\u001b[0m\u001b[1;33m\u001b[0m\u001b[1;33m\u001b[0m\u001b[0m\n\u001b[0;32m     10\u001b[0m \u001b[0mtest1\u001b[0m\u001b[1;33m.\u001b[0m\u001b[0m_a\u001b[0m\u001b[1;33m\u001b[0m\u001b[1;33m\u001b[0m\u001b[0m\n\u001b[1;32m---> 11\u001b[1;33m \u001b[0mtest1\u001b[0m\u001b[1;33m.\u001b[0m\u001b[0m_test2__b\u001b[0m\u001b[1;33m\u001b[0m\u001b[1;33m\u001b[0m\u001b[0m\n\u001b[0m",
      "\u001b[1;31mAttributeError\u001b[0m: 'test2' object has no attribute '_test2__b'"
     ]
    }
   ],
   "source": [
    "# private ,public,protected variable \n",
    "# encapsulation means hiding the implementation of actual program \n",
    "class test:\n",
    "    def __init__(self,a,b,c):\n",
    "        self._a=a#protect variable \n",
    "        self.__b=b#private variable we can call it by using _class name__variable name\n",
    "        self.c=c #public  variable\n",
    "class test2(test):\n",
    "    pass\n",
    "test1=test2(\"s\",\"v\",\"p\")\n",
    "test1._a\n",
    "test1._test2__b # to access we have to mention the parent class name "
   ]
  },
  {
   "cell_type": "code",
   "execution_count": 14,
   "id": "be983b25",
   "metadata": {},
   "outputs": [
    {
     "data": {
      "text/plain": [
       "'v'"
      ]
     },
     "execution_count": 14,
     "metadata": {},
     "output_type": "execute_result"
    }
   ],
   "source": [
    "class test:\n",
    "    def __init__(self,a,b,c):\n",
    "        self._a=a#protect variable \n",
    "        self.__b=b#private variable we can call it by using _class name__variable name\n",
    "        self.c=c #public  variable\n",
    "class test2(test):\n",
    "    pass\n",
    "test1=test2(\"s\",\"v\",\"p\")\n",
    "test1._a\n",
    "test1._test__b # to access we have to mention the parent class name "
   ]
  },
  {
   "cell_type": "code",
   "execution_count": 3,
   "id": "839459c2",
   "metadata": {},
   "outputs": [
    {
     "data": {
      "text/plain": [
       "array('b', [1, 2, 3])"
      ]
     },
     "execution_count": 3,
     "metadata": {},
     "output_type": "execute_result"
    }
   ],
   "source": [
    "# to create array in python \n",
    "import array as arr\n",
    "arr.array(\"b\",[1,2,3])"
   ]
  },
  {
   "cell_type": "code",
   "execution_count": 4,
   "id": "9403313c",
   "metadata": {},
   "outputs": [
    {
     "data": {
      "text/plain": [
       "array([1, 2, 3])"
      ]
     },
     "execution_count": 4,
     "metadata": {},
     "output_type": "execute_result"
    }
   ],
   "source": [
    "import numpy as np #  by using numpy module\n",
    "np.array([1,2,3])"
   ]
  },
  {
   "cell_type": "code",
   "execution_count": 4,
   "id": "df0b57a6",
   "metadata": {},
   "outputs": [
    {
     "name": "stdout",
     "output_type": "stream",
     "text": [
      "this is handled by except block this is my exception class\n"
     ]
    }
   ],
   "source": [
    "# own customization message by using class \n",
    "class test2(Exception):\n",
    "    def __init__(self,mess):\n",
    "        self.mess=mess\n",
    "try:\n",
    "    raise (test2(\"this is my exception class\"))\n",
    "except  test2 as t:\n",
    "    print(\"this is handled by except block\",t)\n",
    "\n",
    "\n",
    "\n",
    "\n"
   ]
  },
  {
   "cell_type": "code",
   "execution_count": 5,
   "id": "0a9242ec",
   "metadata": {},
   "outputs": [
    {
     "data": {
      "text/plain": [
       "'1) create own class for inheritance (multilevel ,multiple )\\n2)create own class for encapsulation \\n3)create onw class for polyphorphism \\n4)create a won class for achieving overloading and overriding\\n'"
      ]
     },
     "execution_count": 5,
     "metadata": {},
     "output_type": "execute_result"
    }
   ],
   "source": [
    "# polymorphism (meeans one single entity but having many forms )\n",
    "\"\"\"1) create own class for inheritance (multilevel ,multiple )\n",
    "2)create own class for encapsulation \n",
    "3)create onw class for polyphorphism \n",
    "4)create a won class for achieving overloading and overriding\\\n",
    "\n",
    "\"\"\"\n"
   ]
  },
  {
   "cell_type": "code",
   "execution_count": 11,
   "id": "9344ab5d",
   "metadata": {},
   "outputs": [
    {
     "name": "stdout",
     "output_type": "stream",
     "text": [
      "this is class students \n"
     ]
    },
    {
     "data": {
      "text/plain": [
       "1234"
      ]
     },
     "execution_count": 11,
     "metadata": {},
     "output_type": "execute_result"
    }
   ],
   "source": [
    "# static variable which can be call by using class name\n",
    "class student:\n",
    "    student_id=1234 # static variable \n",
    "    def __init__(self,name,rollno):\n",
    "        self.a=name\n",
    "        self.b=rollno\n",
    "    @staticmethod # decorator which help to call a particular class without creating a object\n",
    "    def display():\n",
    "        print(\"this is class students \")\n",
    "p=student(\"swaraj\",123)\n",
    "p.display()\n",
    "student.student_id\n",
    "        "
   ]
  },
  {
   "cell_type": "code",
   "execution_count": null,
   "id": "b5df7eb1",
   "metadata": {},
   "outputs": [],
   "source": []
  }
 ],
 "metadata": {
  "kernelspec": {
   "display_name": "Python 3 (ipykernel)",
   "language": "python",
   "name": "python3"
  },
  "language_info": {
   "codemirror_mode": {
    "name": "ipython",
    "version": 3
   },
   "file_extension": ".py",
   "mimetype": "text/x-python",
   "name": "python",
   "nbconvert_exporter": "python",
   "pygments_lexer": "ipython3",
   "version": "3.9.13"
  }
 },
 "nbformat": 4,
 "nbformat_minor": 5
}
