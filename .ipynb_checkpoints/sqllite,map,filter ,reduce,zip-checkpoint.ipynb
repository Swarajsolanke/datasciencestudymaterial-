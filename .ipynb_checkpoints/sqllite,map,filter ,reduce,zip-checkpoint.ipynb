{
 "cells": [
  {
   "cell_type": "code",
   "execution_count": 4,
   "id": "9426c564",
   "metadata": {},
   "outputs": [],
   "source": [
    "import sqlite3"
   ]
  },
  {
   "cell_type": "code",
   "execution_count": 5,
   "id": "fb7e7c7c",
   "metadata": {},
   "outputs": [],
   "source": [
    "DB=sqlite3.connect(\"swaraj.db\")"
   ]
  },
  {
   "cell_type": "code",
   "execution_count": 6,
   "id": "b414d7b0",
   "metadata": {},
   "outputs": [
    {
     "name": "stdout",
     "output_type": "stream",
     "text": [
      " Volume in drive C is OS\n",
      " Volume Serial Number is 2AD2-D675\n",
      "\n",
      " Directory of C:\\Users\\rajpu\n",
      "\n",
      "04/02/2023  01:59 AM             3,369  task 3 Image to Pencil Sketch with Python.ipynb\n",
      "04/23/2023  04:50 PM    <DIR>          .\n",
      "03/30/2023  11:04 PM    <DIR>          ..\n",
      "04/11/2023  08:56 PM    <DIR>          .astropy\n",
      "04/23/2023  02:09 AM             4,071 .bash_history\n",
      "04/22/2023  08:01 PM    <DIR>          .conda\n",
      "03/19/2023  04:13 PM                25 .condarc\n",
      "03/19/2023  04:12 PM    <DIR>          .continuum\n",
      "04/23/2023  12:59 AM                57 .gitconfig\n",
      "02/09/2023  06:27 PM    <DIR>          .idlerc\n",
      "04/23/2023  03:16 AM    <DIR>          .ipynb_checkpoints\n",
      "02/24/2023  11:58 PM    <DIR>          .ipython\n",
      "03/27/2023  03:38 PM    <DIR>          .jupyter\n",
      "04/01/2023  02:08 PM    <DIR>          .keras\n",
      "04/23/2023  02:09 AM                20 .lesshst\n",
      "03/27/2023  04:28 PM    <DIR>          .matplotlib\n",
      "04/12/2023  05:15 PM    <DIR>          .vscode\n",
      "04/09/2023  01:20 PM    <DIR>          __pycache__\n",
      "04/17/2023  08:58 PM         1,112,703 `Exploratory Data Analysis' on dataset `SampleSuperstore task 2.ipynb\n",
      "04/11/2023  12:04 AM            39,871 advanced python concepts.ipynb\n",
      "03/30/2023  11:01 PM         1,947,262 basic python program.ipynb\n",
      "03/31/2023  12:36 AM    <DIR>          Contacts\n",
      "02/07/2023  02:29 PM    <DIR>          Documents\n",
      "04/23/2023  02:19 AM    <DIR>          Downloads\n",
      "04/17/2023  02:16 AM           389,123 explorative data analysis of global terrorism .ipynb\n",
      "03/31/2023  12:36 AM    <DIR>          Favorites\n",
      "04/06/2023  11:40 PM        53,792,928 Git-2.40.0-64-bit.exe\n",
      "04/01/2023  02:18 AM           264,320 Iris data analysis ML project task 1.ipynb\n",
      "04/23/2023  04:11 PM            20,480 jobshop.db\n",
      "03/31/2023  12:36 AM    <DIR>          Links\n",
      "04/23/2023  04:10 PM            16,384 machine.db\n",
      "04/22/2023  10:56 PM            19,207 MONGODB CLASS.ipynb\n",
      "03/31/2023  12:36 AM    <DIR>          Music\n",
      "04/09/2023  01:20 PM               608 mydict.py\n",
      "04/22/2023  07:18 PM    <DIR>          mysql.py\n",
      "04/17/2023  12:47 AM               212 New Text Document.txt\n",
      "03/26/2023  01:27 AM           491,322 nptel content.ipynb\n",
      "03/31/2023  12:32 AM    <DIR>          OneDrive\n",
      "03/20/2023  12:52 PM    <DIR>          PycharmProjects\n",
      "04/17/2023  06:06 PM         1,113,007 SampleSuperstore.csv\n",
      "03/31/2023  12:36 AM    <DIR>          Saved Games\n",
      "04/17/2023  01:55 AM               880 Scores_predictor.pkl\n",
      "03/31/2023  12:36 AM    <DIR>          Searches\n",
      "04/17/2023  01:56 AM            82,216 spark foundation task 1.ipynb\n",
      "04/23/2023  04:50 PM            26,543 sqllite.ipynb\n",
      "04/01/2023  09:11 PM         1,854,192 stock market analysis task-2.ipynb\n",
      "04/09/2023  12:58 PM               869 swaraj solanke - Shortcut.lnk\n",
      "04/23/2023  04:10 PM             8,192 swaraj.db\n",
      "04/12/2023  05:33 PM    <DIR>          test\n",
      "03/30/2023  08:25 PM                 0 txt.c\n",
      "04/22/2023  07:27 PM             4,826 Untitled1.ipynb\n",
      "04/20/2023  08:17 AM    <DIR>          Videos\n",
      "              26 File(s)     61,192,687 bytes\n",
      "              26 Dir(s)  425,077,370,880 bytes free\n"
     ]
    }
   ],
   "source": [
    "ls\n"
   ]
  },
  {
   "cell_type": "code",
   "execution_count": 7,
   "id": "984e52e4",
   "metadata": {},
   "outputs": [],
   "source": [
    "c=DB.cursor()"
   ]
  },
  {
   "cell_type": "code",
   "execution_count": 8,
   "id": "be6199d5",
   "metadata": {},
   "outputs": [
    {
     "ename": "OperationalError",
     "evalue": "table student already exists",
     "output_type": "error",
     "traceback": [
      "\u001b[1;31m---------------------------------------------------------------------------\u001b[0m",
      "\u001b[1;31mOperationalError\u001b[0m                          Traceback (most recent call last)",
      "\u001b[1;32m~\\AppData\\Local\\Temp\\ipykernel_22060\\3049565353.py\u001b[0m in \u001b[0;36m<module>\u001b[1;34m\u001b[0m\n\u001b[1;32m----> 1\u001b[1;33m \u001b[0mc\u001b[0m\u001b[1;33m.\u001b[0m\u001b[0mexecute\u001b[0m\u001b[1;33m(\u001b[0m\u001b[1;34m\"create table student(name text,roll_no int ,marks real)\"\u001b[0m\u001b[1;33m)\u001b[0m\u001b[1;33m\u001b[0m\u001b[1;33m\u001b[0m\u001b[0m\n\u001b[0m",
      "\u001b[1;31mOperationalError\u001b[0m: table student already exists"
     ]
    }
   ],
   "source": [
    "c.execute(\"create table student(name text,roll_no int ,marks real)\")"
   ]
  },
  {
   "cell_type": "code",
   "execution_count": 9,
   "id": "cf4a59fb",
   "metadata": {},
   "outputs": [
    {
     "data": {
      "text/plain": [
       "<sqlite3.Cursor at 0x220a67543b0>"
      ]
     },
     "execution_count": 9,
     "metadata": {},
     "output_type": "execute_result"
    }
   ],
   "source": [
    "c.execute(\"insert into student values('swaraj',123,501)\")"
   ]
  },
  {
   "cell_type": "code",
   "execution_count": 10,
   "id": "22659b80",
   "metadata": {},
   "outputs": [],
   "source": [
    "data=c.execute(\"select * from student\") "
   ]
  },
  {
   "cell_type": "code",
   "execution_count": 11,
   "id": "e02db343",
   "metadata": {},
   "outputs": [
    {
     "name": "stdout",
     "output_type": "stream",
     "text": [
      "('swaraj', 123, 501.0)\n",
      "('swaraj', 123, 501.0)\n",
      "('swaraj', 123, 501.0)\n"
     ]
    }
   ],
   "source": [
    "for i in data:\n",
    "    print(i)"
   ]
  },
  {
   "cell_type": "code",
   "execution_count": 12,
   "id": "0226e71e",
   "metadata": {},
   "outputs": [],
   "source": [
    "DB.commit()"
   ]
  },
  {
   "cell_type": "code",
   "execution_count": 13,
   "id": "68d10a08",
   "metadata": {},
   "outputs": [],
   "source": [
    "DB.close()"
   ]
  },
  {
   "cell_type": "code",
   "execution_count": 14,
   "id": "ac238f0d",
   "metadata": {},
   "outputs": [
    {
     "name": "stdout",
     "output_type": "stream",
     "text": [
      "('swaraj', 123, 501.0)\n",
      "('swaraj', 123, 501.0)\n",
      "('swaraj', 123, 501.0)\n"
     ]
    }
   ],
   "source": [
    "db=sqlite3.connect(\"swaraj.db\")\n",
    "c=db.cursor()\n",
    "data=c.execute(\"select * from student where marks >400\")\n",
    "for i in data:\n",
    "    print(i)"
   ]
  },
  {
   "cell_type": "code",
   "execution_count": 15,
   "id": "b7bc0dc0",
   "metadata": {},
   "outputs": [
    {
     "name": "stdout",
     "output_type": "stream",
     "text": [
      "('swaraj', 123, 501.0)\n",
      "('swaraj', 123, 501.0)\n",
      "('swaraj', 123, 501.0)\n"
     ]
    }
   ],
   "source": [
    "data=c.execute(\"select *from student groupby\")\n",
    "for i in data:\n",
    "    print(i)"
   ]
  },
  {
   "cell_type": "code",
   "execution_count": 16,
   "id": "44a2d7b6",
   "metadata": {},
   "outputs": [],
   "source": [
    "db.close()"
   ]
  },
  {
   "cell_type": "code",
   "execution_count": 17,
   "id": "307d4d1e",
   "metadata": {},
   "outputs": [
    {
     "ename": "OperationalError",
     "evalue": "table learning already exists",
     "output_type": "error",
     "traceback": [
      "\u001b[1;31m---------------------------------------------------------------------------\u001b[0m",
      "\u001b[1;31mOperationalError\u001b[0m                          Traceback (most recent call last)",
      "\u001b[1;32m~\\AppData\\Local\\Temp\\ipykernel_22060\\238621066.py\u001b[0m in \u001b[0;36m<module>\u001b[1;34m\u001b[0m\n\u001b[0;32m      1\u001b[0m \u001b[0mdb\u001b[0m\u001b[1;33m=\u001b[0m\u001b[0msqlite3\u001b[0m\u001b[1;33m.\u001b[0m\u001b[0mconnect\u001b[0m\u001b[1;33m(\u001b[0m\u001b[1;34m\"machine.db\"\u001b[0m\u001b[1;33m)\u001b[0m\u001b[1;33m\u001b[0m\u001b[1;33m\u001b[0m\u001b[0m\n\u001b[0;32m      2\u001b[0m \u001b[0mc\u001b[0m\u001b[1;33m=\u001b[0m\u001b[0mdb\u001b[0m\u001b[1;33m.\u001b[0m\u001b[0mcursor\u001b[0m\u001b[1;33m(\u001b[0m\u001b[1;33m)\u001b[0m\u001b[1;33m\u001b[0m\u001b[1;33m\u001b[0m\u001b[0m\n\u001b[1;32m----> 3\u001b[1;33m \u001b[0mc\u001b[0m\u001b[1;33m.\u001b[0m\u001b[0mexecute\u001b[0m\u001b[1;33m(\u001b[0m\u001b[1;34m\"create table learning (subj text ,marks real ,level text)\"\u001b[0m\u001b[1;33m)\u001b[0m\u001b[1;33m\u001b[0m\u001b[1;33m\u001b[0m\u001b[0m\n\u001b[0m\u001b[0;32m      4\u001b[0m \u001b[0mc\u001b[0m\u001b[1;33m.\u001b[0m\u001b[0mexecute\u001b[0m\u001b[1;33m(\u001b[0m\u001b[1;34m\"insert into learning values('nlp', 234 ,'hard')\"\u001b[0m\u001b[1;33m)\u001b[0m\u001b[1;33m\u001b[0m\u001b[1;33m\u001b[0m\u001b[0m\n\u001b[0;32m      5\u001b[0m \u001b[0mdata\u001b[0m\u001b[1;33m=\u001b[0m\u001b[0mc\u001b[0m\u001b[1;33m.\u001b[0m\u001b[0mexecute\u001b[0m\u001b[1;33m(\u001b[0m\u001b[1;34m\"select *from learning\"\u001b[0m\u001b[1;33m)\u001b[0m\u001b[1;33m\u001b[0m\u001b[1;33m\u001b[0m\u001b[0m\n",
      "\u001b[1;31mOperationalError\u001b[0m: table learning already exists"
     ]
    }
   ],
   "source": [
    "db=sqlite3.connect(\"machine.db\")\n",
    "c=db.cursor()\n",
    "c.execute(\"create table learning (subj text ,marks real ,level text)\")\n",
    "c.execute(\"insert into learning values('nlp', 234 ,'hard')\")\n",
    "data=c.execute(\"select *from learning\")\n",
    "for i in data:\n",
    "    print(i)"
   ]
  },
  {
   "cell_type": "code",
   "execution_count": 18,
   "id": "bc729961",
   "metadata": {},
   "outputs": [
    {
     "ename": "OperationalError",
     "evalue": "table oppo already exists",
     "output_type": "error",
     "traceback": [
      "\u001b[1;31m---------------------------------------------------------------------------\u001b[0m",
      "\u001b[1;31mOperationalError\u001b[0m                          Traceback (most recent call last)",
      "\u001b[1;32m~\\AppData\\Local\\Temp\\ipykernel_22060\\2021079361.py\u001b[0m in \u001b[0;36m<module>\u001b[1;34m\u001b[0m\n\u001b[1;32m----> 1\u001b[1;33m \u001b[0mc\u001b[0m\u001b[1;33m.\u001b[0m\u001b[0mexecute\u001b[0m\u001b[1;33m(\u001b[0m\u001b[1;34m\"create table oppo (company taxt,revenu int,product txt)\"\u001b[0m\u001b[1;33m)\u001b[0m\u001b[1;33m\u001b[0m\u001b[1;33m\u001b[0m\u001b[0m\n\u001b[0m",
      "\u001b[1;31mOperationalError\u001b[0m: table oppo already exists"
     ]
    }
   ],
   "source": [
    "c.execute(\"create table oppo (company taxt,revenu int,product txt)\")\n"
   ]
  },
  {
   "cell_type": "code",
   "execution_count": 19,
   "id": "50afc69b",
   "metadata": {},
   "outputs": [
    {
     "data": {
      "text/plain": [
       "<sqlite3.Cursor at 0x220a6754f80>"
      ]
     },
     "execution_count": 19,
     "metadata": {},
     "output_type": "execute_result"
    }
   ],
   "source": [
    "c.execute(\"insert into oppo values('oppo',1234,'phones')\")"
   ]
  },
  {
   "cell_type": "code",
   "execution_count": 20,
   "id": "ecc3ad34",
   "metadata": {},
   "outputs": [],
   "source": [
    "data=c.execute(\"select*from oppo\")"
   ]
  },
  {
   "cell_type": "code",
   "execution_count": 21,
   "id": "3c936ee8",
   "metadata": {},
   "outputs": [
    {
     "name": "stdout",
     "output_type": "stream",
     "text": [
      "('oppo', 1234, 'phones')\n"
     ]
    }
   ],
   "source": [
    "for i in data :\n",
    "    print(i)"
   ]
  },
  {
   "cell_type": "code",
   "execution_count": 22,
   "id": "d72cb05c",
   "metadata": {},
   "outputs": [
    {
     "name": "stdout",
     "output_type": "stream",
     "text": [
      "('oppo', 1234, 'phones')\n"
     ]
    }
   ],
   "source": [
    "m=c.execute('select *from oppo where revenu >123')\n",
    "for i in m:\n",
    "    print(i)"
   ]
  },
  {
   "cell_type": "code",
   "execution_count": 23,
   "id": "d21fdfdd",
   "metadata": {},
   "outputs": [
    {
     "data": {
      "text/plain": [
       "<sqlite3.Cursor at 0x220a6754f80>"
      ]
     },
     "execution_count": 23,
     "metadata": {},
     "output_type": "execute_result"
    }
   ],
   "source": [
    "c.execute(\"drop table oppo\")"
   ]
  },
  {
   "cell_type": "code",
   "execution_count": 24,
   "id": "2009f69c",
   "metadata": {},
   "outputs": [
    {
     "ename": "OperationalError",
     "evalue": "no such table: oppo",
     "output_type": "error",
     "traceback": [
      "\u001b[1;31m---------------------------------------------------------------------------\u001b[0m",
      "\u001b[1;31mOperationalError\u001b[0m                          Traceback (most recent call last)",
      "\u001b[1;32m~\\AppData\\Local\\Temp\\ipykernel_22060\\3209764354.py\u001b[0m in \u001b[0;36m<module>\u001b[1;34m\u001b[0m\n\u001b[1;32m----> 1\u001b[1;33m \u001b[0mc\u001b[0m\u001b[1;33m.\u001b[0m\u001b[0mexecute\u001b[0m\u001b[1;33m(\u001b[0m\u001b[1;34m\"select *from oppo\"\u001b[0m\u001b[1;33m)\u001b[0m\u001b[1;33m\u001b[0m\u001b[1;33m\u001b[0m\u001b[0m\n\u001b[0m",
      "\u001b[1;31mOperationalError\u001b[0m: no such table: oppo"
     ]
    }
   ],
   "source": [
    "c.execute(\"select *from oppo\")"
   ]
  },
  {
   "cell_type": "code",
   "execution_count": 25,
   "id": "404630c1",
   "metadata": {},
   "outputs": [
    {
     "name": "stdout",
     "output_type": "stream",
     "text": [
      " Volume in drive C is OS\n",
      " Volume Serial Number is 2AD2-D675\n",
      "\n",
      " Directory of C:\\Users\\rajpu\n",
      "\n",
      "04/02/2023  01:59 AM             3,369  task 3 Image to Pencil Sketch with Python.ipynb\n",
      "04/23/2023  04:50 PM    <DIR>          .\n",
      "03/30/2023  11:04 PM    <DIR>          ..\n",
      "04/11/2023  08:56 PM    <DIR>          .astropy\n",
      "04/23/2023  02:09 AM             4,071 .bash_history\n",
      "04/22/2023  08:01 PM    <DIR>          .conda\n",
      "03/19/2023  04:13 PM                25 .condarc\n",
      "03/19/2023  04:12 PM    <DIR>          .continuum\n",
      "04/23/2023  12:59 AM                57 .gitconfig\n",
      "02/09/2023  06:27 PM    <DIR>          .idlerc\n",
      "04/23/2023  03:16 AM    <DIR>          .ipynb_checkpoints\n",
      "02/24/2023  11:58 PM    <DIR>          .ipython\n",
      "03/27/2023  03:38 PM    <DIR>          .jupyter\n",
      "04/01/2023  02:08 PM    <DIR>          .keras\n",
      "04/23/2023  02:09 AM                20 .lesshst\n",
      "03/27/2023  04:28 PM    <DIR>          .matplotlib\n",
      "04/12/2023  05:15 PM    <DIR>          .vscode\n",
      "04/09/2023  01:20 PM    <DIR>          __pycache__\n",
      "04/17/2023  08:58 PM         1,112,703 `Exploratory Data Analysis' on dataset `SampleSuperstore task 2.ipynb\n",
      "04/11/2023  12:04 AM            39,871 advanced python concepts.ipynb\n",
      "03/30/2023  11:01 PM         1,947,262 basic python program.ipynb\n",
      "03/31/2023  12:36 AM    <DIR>          Contacts\n",
      "02/07/2023  02:29 PM    <DIR>          Documents\n",
      "04/23/2023  02:19 AM    <DIR>          Downloads\n",
      "04/17/2023  02:16 AM           389,123 explorative data analysis of global terrorism .ipynb\n",
      "03/31/2023  12:36 AM    <DIR>          Favorites\n",
      "04/06/2023  11:40 PM        53,792,928 Git-2.40.0-64-bit.exe\n",
      "04/01/2023  02:18 AM           264,320 Iris data analysis ML project task 1.ipynb\n",
      "04/23/2023  04:11 PM            20,480 jobshop.db\n",
      "03/31/2023  12:36 AM    <DIR>          Links\n",
      "04/23/2023  04:10 PM            16,384 machine.db\n",
      "04/23/2023  04:50 PM                 0 machine.db-journal\n",
      "04/22/2023  10:56 PM            19,207 MONGODB CLASS.ipynb\n",
      "03/31/2023  12:36 AM    <DIR>          Music\n",
      "04/09/2023  01:20 PM               608 mydict.py\n",
      "04/22/2023  07:18 PM    <DIR>          mysql.py\n",
      "04/17/2023  12:47 AM               212 New Text Document.txt\n",
      "03/26/2023  01:27 AM           491,322 nptel content.ipynb\n",
      "03/31/2023  12:32 AM    <DIR>          OneDrive\n",
      "03/20/2023  12:52 PM    <DIR>          PycharmProjects\n",
      "04/17/2023  06:06 PM         1,113,007 SampleSuperstore.csv\n",
      "03/31/2023  12:36 AM    <DIR>          Saved Games\n",
      "04/17/2023  01:55 AM               880 Scores_predictor.pkl\n",
      "03/31/2023  12:36 AM    <DIR>          Searches\n",
      "04/17/2023  01:56 AM            82,216 spark foundation task 1.ipynb\n",
      "04/23/2023  04:50 PM            26,543 sqllite.ipynb\n",
      "04/01/2023  09:11 PM         1,854,192 stock market analysis task-2.ipynb\n",
      "04/09/2023  12:58 PM               869 swaraj solanke - Shortcut.lnk\n",
      "04/23/2023  04:50 PM             8,192 swaraj.db\n",
      "04/12/2023  05:33 PM    <DIR>          test\n",
      "03/30/2023  08:25 PM                 0 txt.c\n",
      "04/22/2023  07:27 PM             4,826 Untitled1.ipynb\n",
      "04/20/2023  08:17 AM    <DIR>          Videos\n",
      "              27 File(s)     61,192,687 bytes\n",
      "              26 Dir(s)  425,077,116,928 bytes free\n"
     ]
    }
   ],
   "source": [
    "ls\n"
   ]
  },
  {
   "cell_type": "code",
   "execution_count": 26,
   "id": "56b19fc5",
   "metadata": {},
   "outputs": [],
   "source": [
    "data.close()"
   ]
  },
  {
   "cell_type": "code",
   "execution_count": 27,
   "id": "11ca6032",
   "metadata": {},
   "outputs": [],
   "source": [
    "db=sqlite3.connect(\"jobshop.db\")"
   ]
  },
  {
   "cell_type": "code",
   "execution_count": 28,
   "id": "fff797a3",
   "metadata": {},
   "outputs": [],
   "source": [
    "c=db.cursor()"
   ]
  },
  {
   "cell_type": "code",
   "execution_count": 39,
   "id": "ff75ad51",
   "metadata": {},
   "outputs": [],
   "source": [
    "data1=c.execute(\"create table student2(id1 int ,name text, marks real, phone_no int )\")"
   ]
  },
  {
   "cell_type": "code",
   "execution_count": 38,
   "id": "ec4ace31",
   "metadata": {},
   "outputs": [
    {
     "data": {
      "text/plain": [
       "<sqlite3.Cursor at 0x220a6765b20>"
      ]
     },
     "execution_count": 38,
     "metadata": {},
     "output_type": "execute_result"
    }
   ],
   "source": [
    "c.execute(\"drop table student2\")"
   ]
  },
  {
   "cell_type": "code",
   "execution_count": 41,
   "id": "5d63af53",
   "metadata": {},
   "outputs": [
    {
     "ename": "OperationalError",
     "evalue": "no such table: engineer",
     "output_type": "error",
     "traceback": [
      "\u001b[1;31m---------------------------------------------------------------------------\u001b[0m",
      "\u001b[1;31mOperationalError\u001b[0m                          Traceback (most recent call last)",
      "\u001b[1;32m~\\AppData\\Local\\Temp\\ipykernel_22060\\2473061268.py\u001b[0m in \u001b[0;36m<module>\u001b[1;34m\u001b[0m\n\u001b[1;32m----> 1\u001b[1;33m \u001b[0mc\u001b[0m\u001b[1;33m.\u001b[0m\u001b[0mexecute\u001b[0m\u001b[1;33m(\u001b[0m\u001b[1;34m\"drop table engineer\"\u001b[0m\u001b[1;33m)\u001b[0m\u001b[1;33m\u001b[0m\u001b[1;33m\u001b[0m\u001b[0m\n\u001b[0m",
      "\u001b[1;31mOperationalError\u001b[0m: no such table: engineer"
     ]
    }
   ],
   "source": [
    "c.execute(\"drop table engineer\")"
   ]
  },
  {
   "cell_type": "code",
   "execution_count": 44,
   "id": "de0ab8f3",
   "metadata": {},
   "outputs": [],
   "source": [
    "data2=c.execute(\"create table engineer1(id int ,name text, email text,phone_no int)\")\n"
   ]
  },
  {
   "cell_type": "code",
   "execution_count": 43,
   "id": "e473e898",
   "metadata": {},
   "outputs": [
    {
     "data": {
      "text/plain": [
       "<sqlite3.Cursor at 0x220a6765b20>"
      ]
     },
     "execution_count": 43,
     "metadata": {},
     "output_type": "execute_result"
    }
   ],
   "source": [
    "c.execute(\"drop table engineer1\")"
   ]
  },
  {
   "cell_type": "code",
   "execution_count": 45,
   "id": "6da8f58b",
   "metadata": {},
   "outputs": [],
   "source": [
    "data1=c.execute(\"insert into engineer1 values(1234,'swaraj','swaraj@gmail.com',98008)\")\n",
    "data1=c.execute(\"insert into engineer1 values(1235,'swaraj','swaraj@gmail.com',98008)\")\n",
    "data1=c.execute(\"insert into engineer1 values(1233,'swaraj','swaraj@gmail.com',98008)\")\n",
    "data1=c.execute(\"insert into engineer1 values(1237,'swaraj','swaraj@gmail.com',98008)\")"
   ]
  },
  {
   "cell_type": "code",
   "execution_count": 46,
   "id": "9b3c44c9",
   "metadata": {},
   "outputs": [],
   "source": [
    "for i in data1:\n",
    "    print(i)"
   ]
  },
  {
   "cell_type": "code",
   "execution_count": 47,
   "id": "eadde0b0",
   "metadata": {},
   "outputs": [
    {
     "name": "stdout",
     "output_type": "stream",
     "text": [
      "(1234, 'swaraj', 'swaraj@gmail.com', 98008)\n",
      "(1235, 'swaraj', 'swaraj@gmail.com', 98008)\n",
      "(1233, 'swaraj', 'swaraj@gmail.com', 98008)\n",
      "(1237, 'swaraj', 'swaraj@gmail.com', 98008)\n"
     ]
    }
   ],
   "source": [
    "data1=c.execute(\"select *from engineer1\")\n",
    "for i in data1:\n",
    "    print(i)"
   ]
  },
  {
   "cell_type": "code",
   "execution_count": 48,
   "id": "342d8b59",
   "metadata": {},
   "outputs": [
    {
     "data": {
      "text/plain": [
       "<sqlite3.Cursor at 0x220a6765b20>"
      ]
     },
     "execution_count": 48,
     "metadata": {},
     "output_type": "execute_result"
    }
   ],
   "source": [
    "c.execute(\"insert into student2 values(1234,'swara',550,2394830)\")\n",
    "c.execute(\"insert into student2 values(1236,'swara',550,2394830)\")\n",
    "c.execute(\"insert into student2 values(1235,'swara',550,2394830)\")\n",
    "c.execute(\"insert into student2 values(1237,'swara',550,2394830)\")\n",
    "c.execute(\"insert into student2 values(1239,'swara',550,2394830)\")\n",
    "c.execute(\"insert into student2 values(1238,'swara',550,2394830)\")"
   ]
  },
  {
   "cell_type": "code",
   "execution_count": 49,
   "id": "3e2971af",
   "metadata": {},
   "outputs": [
    {
     "name": "stdout",
     "output_type": "stream",
     "text": [
      "(1234, 'swara', 550.0, 2394830)\n",
      "(1236, 'swara', 550.0, 2394830)\n",
      "(1235, 'swara', 550.0, 2394830)\n",
      "(1237, 'swara', 550.0, 2394830)\n",
      "(1239, 'swara', 550.0, 2394830)\n",
      "(1238, 'swara', 550.0, 2394830)\n"
     ]
    }
   ],
   "source": [
    "data2=c.execute(\"select *from student2\")\n",
    "for i in data2:\n",
    "    print(i)"
   ]
  },
  {
   "cell_type": "code",
   "execution_count": 62,
   "id": "b9f068ba",
   "metadata": {},
   "outputs": [],
   "source": [
    "data2=c.execute('select * from student2 s left join engineer1 e on s.id1=e.id') # to fetch all the info from left table then acces\n",
    "#the value corresponding to right table "
   ]
  },
  {
   "cell_type": "code",
   "execution_count": 63,
   "id": "341bbc2b",
   "metadata": {},
   "outputs": [
    {
     "name": "stdout",
     "output_type": "stream",
     "text": [
      "(1234, 'swara', 550.0, 2394830, 1234, 'swaraj', 'swaraj@gmail.com', 98008)\n",
      "(1236, 'swara', 550.0, 2394830, None, None, None, None)\n",
      "(1235, 'swara', 550.0, 2394830, 1235, 'swaraj', 'swaraj@gmail.com', 98008)\n",
      "(1237, 'swara', 550.0, 2394830, 1237, 'swaraj', 'swaraj@gmail.com', 98008)\n",
      "(1239, 'swara', 550.0, 2394830, None, None, None, None)\n",
      "(1238, 'swara', 550.0, 2394830, None, None, None, None)\n"
     ]
    }
   ],
   "source": [
    "for i in data2:\n",
    "    print(i)"
   ]
  },
  {
   "cell_type": "code",
   "execution_count": 64,
   "id": "3ee21898",
   "metadata": {},
   "outputs": [],
   "source": [
    "data2=c.execute('select * from student2 s right join engineer1 e on s.id1=e.id')#where e.id is not null to remove the null values\n"
   ]
  },
  {
   "cell_type": "code",
   "execution_count": 68,
   "id": "30a4559d",
   "metadata": {},
   "outputs": [],
   "source": [
    "data2=c.execute('select * from student2 s inner join engineer1 e on s.id1=e.id') # to remove the none value from dataframe "
   ]
  },
  {
   "cell_type": "code",
   "execution_count": 69,
   "id": "bbee9456",
   "metadata": {},
   "outputs": [
    {
     "name": "stdout",
     "output_type": "stream",
     "text": [
      "(1234, 'swara', 550.0, 2394830, 1234, 'swaraj', 'swaraj@gmail.com', 98008)\n",
      "(1235, 'swara', 550.0, 2394830, 1235, 'swaraj', 'swaraj@gmail.com', 98008)\n",
      "(1237, 'swara', 550.0, 2394830, 1237, 'swaraj', 'swaraj@gmail.com', 98008)\n"
     ]
    }
   ],
   "source": [
    "for i in data2:\n",
    "    print(i)"
   ]
  },
  {
   "cell_type": "code",
   "execution_count": null,
   "id": "0e8b7faa",
   "metadata": {},
   "outputs": [],
   "source": [
    "# the right and outermost join is not possible in case of sqlite \n"
   ]
  },
  {
   "cell_type": "code",
   "execution_count": 70,
   "id": "c48ed7c1",
   "metadata": {},
   "outputs": [],
   "source": [
    "data2=c.execute(\"delete from student2 where id1>1235\") # delete the record base on the condition "
   ]
  },
  {
   "cell_type": "code",
   "execution_count": 72,
   "id": "4114ef43",
   "metadata": {},
   "outputs": [
    {
     "name": "stdout",
     "output_type": "stream",
     "text": [
      "(1234, 'swara', 550.0, 2394830)\n",
      "(1235, 'swara', 550.0, 2394830)\n"
     ]
    }
   ],
   "source": [
    "data2=c.execute(\"select *from student2\")\n",
    "for i in data2:\n",
    "    print(i)"
   ]
  },
  {
   "cell_type": "code",
   "execution_count": 73,
   "id": "92f72e5c",
   "metadata": {},
   "outputs": [
    {
     "data": {
      "text/plain": [
       "[]"
      ]
     },
     "execution_count": 73,
     "metadata": {},
     "output_type": "execute_result"
    }
   ],
   "source": [
    "data2.fetchall() # null is left "
   ]
  },
  {
   "cell_type": "code",
   "execution_count": 74,
   "id": "d0b8b7ee",
   "metadata": {},
   "outputs": [
    {
     "data": {
      "text/plain": [
       "<sqlite3.Cursor at 0x220a6765b20>"
      ]
     },
     "execution_count": 74,
     "metadata": {},
     "output_type": "execute_result"
    }
   ],
   "source": [
    "c.execute(\"update student2 set id1=100 where id1=1234\") # update the value of  the given table "
   ]
  },
  {
   "cell_type": "code",
   "execution_count": 75,
   "id": "3b943735",
   "metadata": {},
   "outputs": [
    {
     "name": "stdout",
     "output_type": "stream",
     "text": [
      "(100, 'swara', 550.0, 2394830)\n",
      "(1235, 'swara', 550.0, 2394830)\n"
     ]
    }
   ],
   "source": [
    "data2=c.execute(\"select *from student2\")\n",
    "for i in data2:\n",
    "    print(i)"
   ]
  },
  {
   "cell_type": "code",
   "execution_count": 76,
   "id": "1bc8a0e5",
   "metadata": {},
   "outputs": [],
   "source": [
    "db.close()"
   ]
  },
  {
   "cell_type": "code",
   "execution_count": 88,
   "id": "3587a004",
   "metadata": {},
   "outputs": [
    {
     "name": "stdout",
     "output_type": "stream",
     "text": [
      "[6, 7, 8, 9]\n"
     ]
    }
   ],
   "source": [
    "l=[1,2,3,4]\n",
    "l2=[]\n",
    "for i in l:\n",
    "    l2.append(i+5)\n",
    "print(l2)"
   ]
  },
  {
   "cell_type": "code",
   "execution_count": 84,
   "id": "e9ba0e1c",
   "metadata": {},
   "outputs": [
    {
     "data": {
      "text/plain": [
       "[6, 7, 8, 9]"
      ]
     },
     "execution_count": 84,
     "metadata": {},
     "output_type": "execute_result"
    }
   ],
   "source": [
    "list(map(lambda x:x+5,l)) # map function is used to iterate over the list"
   ]
  },
  {
   "cell_type": "code",
   "execution_count": 89,
   "id": "826ffc26",
   "metadata": {},
   "outputs": [
    {
     "data": {
      "text/plain": [
       "30"
      ]
     },
     "execution_count": 89,
     "metadata": {},
     "output_type": "execute_result"
    }
   ],
   "source": [
    "def test(a):\n",
    "    return a*5\n",
    "test(6)"
   ]
  },
  {
   "cell_type": "code",
   "execution_count": 90,
   "id": "0b7452ab",
   "metadata": {},
   "outputs": [
    {
     "data": {
      "text/plain": [
       "[5, 10, 15, 20]"
      ]
     },
     "execution_count": 90,
     "metadata": {},
     "output_type": "execute_result"
    }
   ],
   "source": [
    "list(map(lambda x:x*5 ,l)) # lambad is  in-line function used to reduce the lines of code"
   ]
  },
  {
   "cell_type": "code",
   "execution_count": 91,
   "id": "e5ab8a20",
   "metadata": {},
   "outputs": [
    {
     "name": "stdout",
     "output_type": "stream",
     "text": [
      "2\n",
      "4\n",
      "7\n",
      "9\n",
      "16\n"
     ]
    }
   ],
   "source": [
    "l2=[2,4,7,9,16]\n",
    "for i in l2:\n",
    "    print(i)"
   ]
  },
  {
   "cell_type": "code",
   "execution_count": 100,
   "id": "33719fba",
   "metadata": {},
   "outputs": [
    {
     "name": "stdout",
     "output_type": "stream",
     "text": [
      "2\n",
      "4\n",
      "16\n"
     ]
    }
   ],
   "source": [
    "def even(l2): # to access those number which are even \n",
    "    for i in l2:\n",
    "        if i%2==0:\n",
    "            print(i)\n",
    "even(l2)"
   ]
  },
  {
   "cell_type": "code",
   "execution_count": 98,
   "id": "6cc86ff2",
   "metadata": {},
   "outputs": [
    {
     "data": {
      "text/plain": [
       "[2, 4, 16]"
      ]
     },
     "execution_count": 98,
     "metadata": {},
     "output_type": "execute_result"
    }
   ],
   "source": [
    "[i for  i in l2 if i%2==0 ] # to print only those number which are even "
   ]
  },
  {
   "cell_type": "code",
   "execution_count": 102,
   "id": "23f64022",
   "metadata": {},
   "outputs": [
    {
     "data": {
      "text/plain": [
       "[2, 4, 16]"
      ]
     },
     "execution_count": 102,
     "metadata": {},
     "output_type": "execute_result"
    }
   ],
   "source": [
    "list(filter(even,l2)) # it take function as first arugument and second as itearable object"
   ]
  },
  {
   "cell_type": "code",
   "execution_count": 101,
   "id": "46ce3d1b",
   "metadata": {},
   "outputs": [],
   "source": [
    "def even(l2):\n",
    "    if l2%2==0:\n",
    "        return l2"
   ]
  },
  {
   "cell_type": "code",
   "execution_count": 103,
   "id": "e399d4ae",
   "metadata": {},
   "outputs": [
    {
     "data": {
      "text/plain": [
       "[2, 4, 16]"
      ]
     },
     "execution_count": 103,
     "metadata": {},
     "output_type": "execute_result"
    }
   ],
   "source": [
    "list(filter(lambda x:x%2==0,l2)) # it is only used when function return true "
   ]
  },
  {
   "cell_type": "code",
   "execution_count": 105,
   "id": "66c905a2",
   "metadata": {},
   "outputs": [],
   "source": [
    "from functools import reduce  # bydefault it is not available we have import it "
   ]
  },
  {
   "cell_type": "code",
   "execution_count": 108,
   "id": "86ec4c2e",
   "metadata": {},
   "outputs": [
    {
     "data": {
      "text/plain": [
       "38"
      ]
     },
     "execution_count": 108,
     "metadata": {},
     "output_type": "execute_result"
    }
   ],
   "source": [
    "l=[23,4,5,6]\n",
    "sum(l)"
   ]
  },
  {
   "cell_type": "code",
   "execution_count": 109,
   "id": "0c129b53",
   "metadata": {},
   "outputs": [],
   "source": [
    "def sumr(a,b):\n",
    "    return a+b\n"
   ]
  },
  {
   "cell_type": "code",
   "execution_count": 110,
   "id": "ba1ba0aa",
   "metadata": {},
   "outputs": [
    {
     "data": {
      "text/plain": [
       "38"
      ]
     },
     "execution_count": 110,
     "metadata": {},
     "output_type": "execute_result"
    }
   ],
   "source": [
    "reduce(sumr,l) # reduce function works for only two argument and one argument "
   ]
  },
  {
   "cell_type": "code",
   "execution_count": 114,
   "id": "c1e62a10",
   "metadata": {},
   "outputs": [
    {
     "ename": "TypeError",
     "evalue": "reduce expected at least 2 arguments, got 1",
     "output_type": "error",
     "traceback": [
      "\u001b[1;31m---------------------------------------------------------------------------\u001b[0m",
      "\u001b[1;31mTypeError\u001b[0m                                 Traceback (most recent call last)",
      "\u001b[1;32m~\\AppData\\Local\\Temp\\ipykernel_22060\\4153859873.py\u001b[0m in \u001b[0;36m<module>\u001b[1;34m\u001b[0m\n\u001b[1;32m----> 1\u001b[1;33m \u001b[0mreduce\u001b[0m\u001b[1;33m(\u001b[0m\u001b[1;33m(\u001b[0m\u001b[1;32mlambda\u001b[0m \u001b[0mx\u001b[0m\u001b[1;33m,\u001b[0m\u001b[0my\u001b[0m\u001b[1;33m:\u001b[0m\u001b[0mx\u001b[0m\u001b[1;33m+\u001b[0m\u001b[0my\u001b[0m \u001b[1;33m,\u001b[0m\u001b[0ml\u001b[0m\u001b[1;33m)\u001b[0m\u001b[1;33m)\u001b[0m\u001b[1;33m\u001b[0m\u001b[1;33m\u001b[0m\u001b[0m\n\u001b[0m",
      "\u001b[1;31mTypeError\u001b[0m: reduce expected at least 2 arguments, got 1"
     ]
    }
   ],
   "source": [
    "reduce((lambda x,y:x+y ,l))"
   ]
  },
  {
   "cell_type": "code",
   "execution_count": 118,
   "id": "aa0655c2",
   "metadata": {},
   "outputs": [
    {
     "data": {
      "text/plain": [
       "9"
      ]
     },
     "execution_count": 118,
     "metadata": {},
     "output_type": "execute_result"
    }
   ],
   "source": [
    "l=[4,5]# it works for 1 argument\n",
    "reduce(sumr,l)"
   ]
  },
  {
   "cell_type": "code",
   "execution_count": 119,
   "id": "3d9d7849",
   "metadata": {},
   "outputs": [
    {
     "data": {
      "text/plain": [
       "9"
      ]
     },
     "execution_count": 119,
     "metadata": {},
     "output_type": "execute_result"
    }
   ],
   "source": [
    "reduce(lambda x,y:x+y,l) # by using lambda func"
   ]
  },
  {
   "cell_type": "code",
   "execution_count": 121,
   "id": "1e7555ff",
   "metadata": {},
   "outputs": [
    {
     "data": {
      "text/plain": [
       "[(1, 3, 'swaraj'), (3, 4, 'aakash'), (5, 5, 'veera')]"
      ]
     },
     "execution_count": 121,
     "metadata": {},
     "output_type": "execute_result"
    }
   ],
   "source": [
    "l1=[1,3,5,6] # to zip the list in the form of tuples \n",
    "l2=[3,4,5]\n",
    "l3=[\"swaraj\",\"aakash\",\"veera\",\"mahesh\"]\n",
    "list(zip(l1,l2,l3))"
   ]
  },
  {
   "cell_type": "code",
   "execution_count": null,
   "id": "ba8ac693",
   "metadata": {},
   "outputs": [],
   "source": []
  }
 ],
 "metadata": {
  "kernelspec": {
   "display_name": "Python 3 (ipykernel)",
   "language": "python",
   "name": "python3"
  },
  "language_info": {
   "codemirror_mode": {
    "name": "ipython",
    "version": 3
   },
   "file_extension": ".py",
   "mimetype": "text/x-python",
   "name": "python",
   "nbconvert_exporter": "python",
   "pygments_lexer": "ipython3",
   "version": "3.9.13"
  }
 },
 "nbformat": 4,
 "nbformat_minor": 5
}
